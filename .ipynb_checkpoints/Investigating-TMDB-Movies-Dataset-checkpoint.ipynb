{
 "cells": [
  {
   "cell_type": "markdown",
   "metadata": {},
   "source": [
    "<a href=\"https://egfwd.com/\"><img src = \"https://raw.githubusercontent.com/abdelrazekrizk/FWD-Udacity-Wrangle-and-Analyze-Data-Twitter-API/main/FWD.jpg\" align = \"center\"></a>\n"
   ]
  },
  {
   "cell_type": "markdown",
   "metadata": {},
   "source": [
    "\n",
    "\n",
    "# Project: Investigate a Dataset (TMDb Movies Dataset)\n",
    "\n",
    "## Table of Contents\n",
    "<ul>\n",
    "<li><a href=\"#intro\">Introduction</a></li>\n",
    "<li><a href=\"#wrangling\">Data Wrangling</a></li>\n",
    "<li><a href=\"#EDA\">Exploratory Data Analysis</a></li>\n",
    "<li><a href=\"#conclusions\">Conclusions</a></li>   \n",
    "<li><a href=\"#Resource\">Resource</a></li>\n",
    "</ul>"
   ]
  },
  {
   "cell_type": "markdown",
   "metadata": {},
   "source": [
    "<a id='intro'></a>\n",
    "# Introduction\n",
    "\n",
    "In this section of the report, we will  introduce the dataset\n",
    "\n",
    "This dataset was generated from The Movie Database API. This product uses the TMDb API but is not endorsed or certified by TMDb\n",
    "\n",
    "What can we say about the success of a movie before it is released? Are there certain companies (Pixar?) that have found a consistent formula? Given that major films costing over $100 million to produce can still flop, this question is more important than ever to the industry. Film aficionados might have different interests. Can we predict which films will be highly rated, whether or not they are a commercial success?"
   ]
  },
  {
   "cell_type": "code",
   "execution_count": 1,
   "metadata": {
    "scrolled": true
   },
   "outputs": [
    {
     "name": "stdout",
     "output_type": "stream",
     "text": [
      "libarary-Imported\n"
     ]
    }
   ],
   "source": [
    "# Use this cell to set up import statements for all of the packages that you\n",
    "#   plan to use\n",
    "# Remember to include a 'magic word' so that your visualizations are plotted\n",
    "#   inline with the notebook. See this page for more:\n",
    "#   http://ipython.readthedocs.io/en/stable/interactive/magics.html\n",
    "\n",
    "import os              #this module routines for NT or Posix depending on what system we're on.\n",
    "import pandas as pd    # this module \n",
    "import numpy as np     # library used for working with arrays. It also has functions for working in domain of linear algebra\n",
    "import types\n",
    "import csv\n",
    "import seaborn as sns         # provides a high-level interface for drawing attractive and informative statistical graphics.\n",
    "import time            # This module provides various functions to manipulate time values.\n",
    "import pandocfilters   # This Functions to aid writing python scripts that process the pandoc AST serialized as JSON.\n",
    "import nbconvert       # This module converting notebooks to and from different formats\n",
    "import pyppeteer       # Generate screenshots and PDFs of pages\n",
    "import pip\n",
    "\n",
    "\n",
    "# Matplotlib and associated plotting modules\n",
    "import matplotlib.cm as cm\n",
    "import matplotlib.colors as colors\n",
    "import matplotlib.pyplot as plt\n",
    "%matplotlib inline\n",
    "\n",
    "print (\"libarary-Imported\")"
   ]
  },
  {
   "cell_type": "code",
   "execution_count": 2,
   "metadata": {},
   "outputs": [
    {
     "name": "stdout",
     "output_type": "stream",
     "text": [
      "functions-Imported\n"
     ]
    }
   ],
   "source": [
    "from IPython.display import HTML\n",
    "from timeit import default_timer as timer\n",
    "from pandas.core.tools.datetimes import to_datetime\n",
    "from pandas.core.tools.timedeltas import to_timedelta\n",
    "from nbconvert import LatexExporter\n",
    "from nbconvert import PDFExporter\n",
    "from nbconvert import webpdf \n",
    "from nbconvert import nbconvertapp\n",
    "from nbconvert import templates\n",
    "\n",
    "print (\"functions-Imported\")"
   ]
  },
  {
   "cell_type": "code",
   "execution_count": 3,
   "metadata": {},
   "outputs": [
    {
     "data": {
      "text/plain": [
       "'C:\\\\Users\\\\Abdelrazek\\\\Downloads\\\\investigate-tmdb-movies-dataset'"
      ]
     },
     "execution_count": 3,
     "metadata": {},
     "output_type": "execute_result"
    }
   ],
   "source": [
    "import os\n",
    "os.getcwd()"
   ]
  },
  {
   "cell_type": "markdown",
   "metadata": {},
   "source": [
    "<a id='wrangling'></a>\n",
    "# Data Wrangling\n",
    "\n",
    "### General Properties"
   ]
  },
  {
   "cell_type": "code",
   "execution_count": 4,
   "metadata": {},
   "outputs": [],
   "source": [
    "# Load your data and print out a few lines. Perform operations to inspect data\n",
    "#   types and look for instances of missing or possibly errant data.\n",
    "#loading the csv file and storing it in 'df'\n",
    "df = pd.read_csv('tmdb-movies.csv')"
   ]
  },
  {
   "cell_type": "code",
   "execution_count": 5,
   "metadata": {},
   "outputs": [
    {
     "data": {
      "text/html": [
       "<div>\n",
       "<style scoped>\n",
       "    .dataframe tbody tr th:only-of-type {\n",
       "        vertical-align: middle;\n",
       "    }\n",
       "\n",
       "    .dataframe tbody tr th {\n",
       "        vertical-align: top;\n",
       "    }\n",
       "\n",
       "    .dataframe thead th {\n",
       "        text-align: right;\n",
       "    }\n",
       "</style>\n",
       "<table border=\"1\" class=\"dataframe\">\n",
       "  <thead>\n",
       "    <tr style=\"text-align: right;\">\n",
       "      <th></th>\n",
       "      <th>id</th>\n",
       "      <th>imdb_id</th>\n",
       "      <th>popularity</th>\n",
       "      <th>budget</th>\n",
       "      <th>revenue</th>\n",
       "      <th>original_title</th>\n",
       "      <th>cast</th>\n",
       "      <th>homepage</th>\n",
       "      <th>director</th>\n",
       "      <th>tagline</th>\n",
       "      <th>...</th>\n",
       "      <th>overview</th>\n",
       "      <th>runtime</th>\n",
       "      <th>genres</th>\n",
       "      <th>production_companies</th>\n",
       "      <th>release_date</th>\n",
       "      <th>vote_count</th>\n",
       "      <th>vote_average</th>\n",
       "      <th>release_year</th>\n",
       "      <th>budget_adj</th>\n",
       "      <th>revenue_adj</th>\n",
       "    </tr>\n",
       "  </thead>\n",
       "  <tbody>\n",
       "    <tr>\n",
       "      <th>0</th>\n",
       "      <td>135397</td>\n",
       "      <td>tt0369610</td>\n",
       "      <td>32.985763</td>\n",
       "      <td>150000000</td>\n",
       "      <td>1513528810</td>\n",
       "      <td>Jurassic World</td>\n",
       "      <td>Chris Pratt|Bryce Dallas Howard|Irrfan Khan|Vi...</td>\n",
       "      <td>http://www.jurassicworld.com/</td>\n",
       "      <td>Colin Trevorrow</td>\n",
       "      <td>The park is open.</td>\n",
       "      <td>...</td>\n",
       "      <td>Twenty-two years after the events of Jurassic ...</td>\n",
       "      <td>124</td>\n",
       "      <td>Action|Adventure|Science Fiction|Thriller</td>\n",
       "      <td>Universal Studios|Amblin Entertainment|Legenda...</td>\n",
       "      <td>6/9/15</td>\n",
       "      <td>5562</td>\n",
       "      <td>6.5</td>\n",
       "      <td>2015</td>\n",
       "      <td>1.379999e+08</td>\n",
       "      <td>1.392446e+09</td>\n",
       "    </tr>\n",
       "    <tr>\n",
       "      <th>1</th>\n",
       "      <td>76341</td>\n",
       "      <td>tt1392190</td>\n",
       "      <td>28.419936</td>\n",
       "      <td>150000000</td>\n",
       "      <td>378436354</td>\n",
       "      <td>Mad Max: Fury Road</td>\n",
       "      <td>Tom Hardy|Charlize Theron|Hugh Keays-Byrne|Nic...</td>\n",
       "      <td>http://www.madmaxmovie.com/</td>\n",
       "      <td>George Miller</td>\n",
       "      <td>What a Lovely Day.</td>\n",
       "      <td>...</td>\n",
       "      <td>An apocalyptic story set in the furthest reach...</td>\n",
       "      <td>120</td>\n",
       "      <td>Action|Adventure|Science Fiction|Thriller</td>\n",
       "      <td>Village Roadshow Pictures|Kennedy Miller Produ...</td>\n",
       "      <td>5/13/15</td>\n",
       "      <td>6185</td>\n",
       "      <td>7.1</td>\n",
       "      <td>2015</td>\n",
       "      <td>1.379999e+08</td>\n",
       "      <td>3.481613e+08</td>\n",
       "    </tr>\n",
       "  </tbody>\n",
       "</table>\n",
       "<p>2 rows × 21 columns</p>\n",
       "</div>"
      ],
      "text/plain": [
       "       id    imdb_id  popularity     budget     revenue      original_title  \\\n",
       "0  135397  tt0369610   32.985763  150000000  1513528810      Jurassic World   \n",
       "1   76341  tt1392190   28.419936  150000000   378436354  Mad Max: Fury Road   \n",
       "\n",
       "                                                cast  \\\n",
       "0  Chris Pratt|Bryce Dallas Howard|Irrfan Khan|Vi...   \n",
       "1  Tom Hardy|Charlize Theron|Hugh Keays-Byrne|Nic...   \n",
       "\n",
       "                        homepage         director             tagline  ...  \\\n",
       "0  http://www.jurassicworld.com/  Colin Trevorrow   The park is open.  ...   \n",
       "1    http://www.madmaxmovie.com/    George Miller  What a Lovely Day.  ...   \n",
       "\n",
       "                                            overview runtime  \\\n",
       "0  Twenty-two years after the events of Jurassic ...     124   \n",
       "1  An apocalyptic story set in the furthest reach...     120   \n",
       "\n",
       "                                      genres  \\\n",
       "0  Action|Adventure|Science Fiction|Thriller   \n",
       "1  Action|Adventure|Science Fiction|Thriller   \n",
       "\n",
       "                                production_companies release_date vote_count  \\\n",
       "0  Universal Studios|Amblin Entertainment|Legenda...       6/9/15       5562   \n",
       "1  Village Roadshow Pictures|Kennedy Miller Produ...      5/13/15       6185   \n",
       "\n",
       "   vote_average  release_year    budget_adj   revenue_adj  \n",
       "0           6.5          2015  1.379999e+08  1.392446e+09  \n",
       "1           7.1          2015  1.379999e+08  3.481613e+08  \n",
       "\n",
       "[2 rows x 21 columns]"
      ]
     },
     "execution_count": 5,
     "metadata": {},
     "output_type": "execute_result"
    }
   ],
   "source": [
    "# printing first two rows\n",
    "df.head(2)"
   ]
  },
  {
   "cell_type": "code",
   "execution_count": 6,
   "metadata": {},
   "outputs": [
    {
     "data": {
      "text/html": [
       "<div>\n",
       "<style scoped>\n",
       "    .dataframe tbody tr th:only-of-type {\n",
       "        vertical-align: middle;\n",
       "    }\n",
       "\n",
       "    .dataframe tbody tr th {\n",
       "        vertical-align: top;\n",
       "    }\n",
       "\n",
       "    .dataframe thead th {\n",
       "        text-align: right;\n",
       "    }\n",
       "</style>\n",
       "<table border=\"1\" class=\"dataframe\">\n",
       "  <thead>\n",
       "    <tr style=\"text-align: right;\">\n",
       "      <th></th>\n",
       "      <th>id</th>\n",
       "      <th>imdb_id</th>\n",
       "      <th>popularity</th>\n",
       "      <th>budget</th>\n",
       "      <th>revenue</th>\n",
       "      <th>original_title</th>\n",
       "      <th>cast</th>\n",
       "      <th>homepage</th>\n",
       "      <th>director</th>\n",
       "      <th>tagline</th>\n",
       "      <th>...</th>\n",
       "      <th>overview</th>\n",
       "      <th>runtime</th>\n",
       "      <th>genres</th>\n",
       "      <th>production_companies</th>\n",
       "      <th>release_date</th>\n",
       "      <th>vote_count</th>\n",
       "      <th>vote_average</th>\n",
       "      <th>release_year</th>\n",
       "      <th>budget_adj</th>\n",
       "      <th>revenue_adj</th>\n",
       "    </tr>\n",
       "  </thead>\n",
       "  <tbody>\n",
       "    <tr>\n",
       "      <th>10864</th>\n",
       "      <td>21449</td>\n",
       "      <td>tt0061177</td>\n",
       "      <td>0.064317</td>\n",
       "      <td>0</td>\n",
       "      <td>0</td>\n",
       "      <td>What's Up, Tiger Lily?</td>\n",
       "      <td>Tatsuya Mihashi|Akiko Wakabayashi|Mie Hama|Joh...</td>\n",
       "      <td>NaN</td>\n",
       "      <td>Woody Allen</td>\n",
       "      <td>WOODY ALLEN STRIKES BACK!</td>\n",
       "      <td>...</td>\n",
       "      <td>In comic Woody Allen's film debut, he took the...</td>\n",
       "      <td>80</td>\n",
       "      <td>Action|Comedy</td>\n",
       "      <td>Benedict Pictures Corp.</td>\n",
       "      <td>11/2/66</td>\n",
       "      <td>22</td>\n",
       "      <td>5.4</td>\n",
       "      <td>1966</td>\n",
       "      <td>0.000000</td>\n",
       "      <td>0.0</td>\n",
       "    </tr>\n",
       "    <tr>\n",
       "      <th>10865</th>\n",
       "      <td>22293</td>\n",
       "      <td>tt0060666</td>\n",
       "      <td>0.035919</td>\n",
       "      <td>19000</td>\n",
       "      <td>0</td>\n",
       "      <td>Manos: The Hands of Fate</td>\n",
       "      <td>Harold P. Warren|Tom Neyman|John Reynolds|Dian...</td>\n",
       "      <td>NaN</td>\n",
       "      <td>Harold P. Warren</td>\n",
       "      <td>It's Shocking! It's Beyond Your Imagination!</td>\n",
       "      <td>...</td>\n",
       "      <td>A family gets lost on the road and stumbles up...</td>\n",
       "      <td>74</td>\n",
       "      <td>Horror</td>\n",
       "      <td>Norm-Iris</td>\n",
       "      <td>11/15/66</td>\n",
       "      <td>15</td>\n",
       "      <td>1.5</td>\n",
       "      <td>1966</td>\n",
       "      <td>127642.279154</td>\n",
       "      <td>0.0</td>\n",
       "    </tr>\n",
       "  </tbody>\n",
       "</table>\n",
       "<p>2 rows × 21 columns</p>\n",
       "</div>"
      ],
      "text/plain": [
       "          id    imdb_id  popularity  budget  revenue  \\\n",
       "10864  21449  tt0061177    0.064317       0        0   \n",
       "10865  22293  tt0060666    0.035919   19000        0   \n",
       "\n",
       "                 original_title  \\\n",
       "10864    What's Up, Tiger Lily?   \n",
       "10865  Manos: The Hands of Fate   \n",
       "\n",
       "                                                    cast homepage  \\\n",
       "10864  Tatsuya Mihashi|Akiko Wakabayashi|Mie Hama|Joh...      NaN   \n",
       "10865  Harold P. Warren|Tom Neyman|John Reynolds|Dian...      NaN   \n",
       "\n",
       "               director                                       tagline  ...  \\\n",
       "10864       Woody Allen                     WOODY ALLEN STRIKES BACK!  ...   \n",
       "10865  Harold P. Warren  It's Shocking! It's Beyond Your Imagination!  ...   \n",
       "\n",
       "                                                overview runtime  \\\n",
       "10864  In comic Woody Allen's film debut, he took the...      80   \n",
       "10865  A family gets lost on the road and stumbles up...      74   \n",
       "\n",
       "              genres     production_companies release_date vote_count  \\\n",
       "10864  Action|Comedy  Benedict Pictures Corp.      11/2/66         22   \n",
       "10865         Horror                Norm-Iris     11/15/66         15   \n",
       "\n",
       "       vote_average  release_year     budget_adj  revenue_adj  \n",
       "10864           5.4          1966       0.000000          0.0  \n",
       "10865           1.5          1966  127642.279154          0.0  \n",
       "\n",
       "[2 rows x 21 columns]"
      ]
     },
     "execution_count": 6,
     "metadata": {},
     "output_type": "execute_result"
    }
   ],
   "source": [
    "# printing the last two rows\n",
    "df.tail(2)"
   ]
  },
  {
   "cell_type": "code",
   "execution_count": 7,
   "metadata": {},
   "outputs": [
    {
     "data": {
      "text/plain": [
       "(10866, 21)"
      ]
     },
     "execution_count": 7,
     "metadata": {},
     "output_type": "execute_result"
    }
   ],
   "source": [
    "# The dimensions of the dataset\n",
    "df.shape"
   ]
  },
  {
   "cell_type": "code",
   "execution_count": 8,
   "metadata": {
    "scrolled": true
   },
   "outputs": [
    {
     "name": "stdout",
     "output_type": "stream",
     "text": [
      "<class 'pandas.core.frame.DataFrame'>\n",
      "RangeIndex: 10866 entries, 0 to 10865\n",
      "Data columns (total 21 columns):\n",
      " #   Column                Non-Null Count  Dtype  \n",
      "---  ------                --------------  -----  \n",
      " 0   id                    10866 non-null  int64  \n",
      " 1   imdb_id               10856 non-null  object \n",
      " 2   popularity            10866 non-null  float64\n",
      " 3   budget                10866 non-null  int64  \n",
      " 4   revenue               10866 non-null  int64  \n",
      " 5   original_title        10866 non-null  object \n",
      " 6   cast                  10790 non-null  object \n",
      " 7   homepage              2936 non-null   object \n",
      " 8   director              10822 non-null  object \n",
      " 9   tagline               8042 non-null   object \n",
      " 10  keywords              9373 non-null   object \n",
      " 11  overview              10862 non-null  object \n",
      " 12  runtime               10866 non-null  int64  \n",
      " 13  genres                10843 non-null  object \n",
      " 14  production_companies  9836 non-null   object \n",
      " 15  release_date          10866 non-null  object \n",
      " 16  vote_count            10866 non-null  int64  \n",
      " 17  vote_average          10866 non-null  float64\n",
      " 18  release_year          10866 non-null  int64  \n",
      " 19  budget_adj            10866 non-null  float64\n",
      " 20  revenue_adj           10866 non-null  float64\n",
      "dtypes: float64(4), int64(6), object(11)\n",
      "memory usage: 1.7+ MB\n"
     ]
    }
   ],
   "source": [
    "# display a summary of the dataframe\n",
    "df.info()"
   ]
  },
  {
   "cell_type": "code",
   "execution_count": 9,
   "metadata": {},
   "outputs": [
    {
     "data": {
      "text/plain": [
       "id                         0\n",
       "imdb_id                   10\n",
       "popularity                 0\n",
       "budget                     0\n",
       "revenue                    0\n",
       "original_title             0\n",
       "cast                      76\n",
       "homepage                7930\n",
       "director                  44\n",
       "tagline                 2824\n",
       "keywords                1493\n",
       "overview                   4\n",
       "runtime                    0\n",
       "genres                    23\n",
       "production_companies    1030\n",
       "release_date               0\n",
       "vote_count                 0\n",
       "vote_average               0\n",
       "release_year               0\n",
       "budget_adj                 0\n",
       "revenue_adj                0\n",
       "dtype: int64"
      ]
     },
     "execution_count": 9,
     "metadata": {},
     "output_type": "execute_result"
    }
   ],
   "source": [
    "# view missing value count for archive \n",
    "df.isnull().sum()"
   ]
  },
  {
   "cell_type": "code",
   "execution_count": 10,
   "metadata": {},
   "outputs": [
    {
     "data": {
      "text/plain": [
       "6.1    496\n",
       "6.0    495\n",
       "5.8    486\n",
       "5.9    473\n",
       "6.2    464\n",
       "      ... \n",
       "8.9      1\n",
       "8.6      1\n",
       "9.2      1\n",
       "8.7      1\n",
       "2.0      1\n",
       "Name: vote_average, Length: 72, dtype: int64"
      ]
     },
     "execution_count": 10,
     "metadata": {},
     "output_type": "execute_result"
    }
   ],
   "source": [
    "# number not in the rating range(0-10)\n",
    "df.vote_average.value_counts()   "
   ]
  },
  {
   "cell_type": "code",
   "execution_count": 11,
   "metadata": {},
   "outputs": [
    {
     "data": {
      "text/plain": [
       "woman director                                        134\n",
       "independent film                                       82\n",
       "sport                                                  25\n",
       "musical                                                24\n",
       "suspense                                               24\n",
       "                                                     ... \n",
       "los angeles|gangster                                    1\n",
       "family|christmas                                        1\n",
       "new york|film director|legend|song|public               1\n",
       "celebrity|thief|fame|burglary|hollywood                 1\n",
       "female nudity|monster|spacecraft|experiment|nudity      1\n",
       "Name: keywords, Length: 8804, dtype: int64"
      ]
     },
     "execution_count": 11,
     "metadata": {},
     "output_type": "execute_result"
    }
   ],
   "source": [
    "# counts keywords\n",
    "df.keywords .value_counts()"
   ]
  },
  {
   "cell_type": "code",
   "execution_count": 12,
   "metadata": {},
   "outputs": [
    {
     "data": {
      "text/plain": [
       "Paramount Pictures                                  156\n",
       "Universal Pictures                                  133\n",
       "Warner Bros.                                         84\n",
       "Walt Disney Pictures                                 76\n",
       "Columbia Pictures                                    72\n",
       "                                                   ... \n",
       "Wessler Entertainment                                 1\n",
       "Trimark Pictures|Anglo-American Film Corporation      1\n",
       "Studio Canal|Mandarin Film                            1\n",
       "Turner Network Television                             1\n",
       "Scott Free Productions|YouTube|LG                     1\n",
       "Name: production_companies, Length: 7445, dtype: int64"
      ]
     },
     "execution_count": 12,
     "metadata": {},
     "output_type": "execute_result"
    }
   ],
   "source": [
    "# counts production by companies\n",
    "df.production_companies .value_counts()"
   ]
  },
  {
   "cell_type": "code",
   "execution_count": 13,
   "metadata": {},
   "outputs": [
    {
     "data": {
      "text/plain": [
       "<bound method Series.duplicated of 0        tt0369610\n",
       "1        tt1392190\n",
       "2        tt2908446\n",
       "3        tt2488496\n",
       "4        tt2820852\n",
       "           ...    \n",
       "10861    tt0060371\n",
       "10862    tt0060472\n",
       "10863    tt0060161\n",
       "10864    tt0061177\n",
       "10865    tt0060666\n",
       "Name: imdb_id, Length: 10866, dtype: object>"
      ]
     },
     "execution_count": 13,
     "metadata": {},
     "output_type": "execute_result"
    }
   ],
   "source": [
    "#check for duplicates in the data by imdb_id\n",
    "df.imdb_id.duplicated"
   ]
  },
  {
   "cell_type": "code",
   "execution_count": 14,
   "metadata": {},
   "outputs": [
    {
     "data": {
      "text/plain": [
       "0        False\n",
       "1        False\n",
       "2        False\n",
       "3        False\n",
       "4        False\n",
       "         ...  \n",
       "10861    False\n",
       "10862    False\n",
       "10863    False\n",
       "10864    False\n",
       "10865    False\n",
       "Name: id, Length: 10866, dtype: bool"
      ]
     },
     "execution_count": 14,
     "metadata": {},
     "output_type": "execute_result"
    }
   ],
   "source": [
    "#check for duplicates in the data by id\n",
    "df.id.duplicated()"
   ]
  },
  {
   "cell_type": "code",
   "execution_count": 15,
   "metadata": {},
   "outputs": [
    {
     "data": {
      "text/plain": [
       "<bound method Series.unique of 0        monster|dna|tyrannosaurus rex|velociraptor|island\n",
       "1         future|chase|post-apocalyptic|dystopia|australia\n",
       "2        based on novel|revolution|dystopia|sequel|dyst...\n",
       "3                    android|spaceship|jedi|space opera|3d\n",
       "4                      car race|speed|revenge|suspense|car\n",
       "                               ...                        \n",
       "10861                             surfer|surfboard|surfing\n",
       "10862                            car race|racing|formula 1\n",
       "10863                             car|trolley|stealing car\n",
       "10864                                                spoof\n",
       "10865                  fire|gun|drive|sacrifice|flashlight\n",
       "Name: keywords, Length: 10866, dtype: object>"
      ]
     },
     "execution_count": 15,
     "metadata": {},
     "output_type": "execute_result"
    }
   ],
   "source": [
    "#check unique in keywords col\n",
    "df.keywords.unique"
   ]
  },
  {
   "cell_type": "code",
   "execution_count": 16,
   "metadata": {},
   "outputs": [
    {
     "data": {
      "text/plain": [
       "<bound method NDFrame.sample of            id    imdb_id  popularity     budget     revenue  \\\n",
       "0      135397  tt0369610   32.985763  150000000  1513528810   \n",
       "1       76341  tt1392190   28.419936  150000000   378436354   \n",
       "2      262500  tt2908446   13.112507  110000000   295238201   \n",
       "3      140607  tt2488496   11.173104  200000000  2068178225   \n",
       "4      168259  tt2820852    9.335014  190000000  1506249360   \n",
       "...       ...        ...         ...        ...         ...   \n",
       "10861      21  tt0060371    0.080598          0           0   \n",
       "10862   20379  tt0060472    0.065543          0           0   \n",
       "10863   39768  tt0060161    0.065141          0           0   \n",
       "10864   21449  tt0061177    0.064317          0           0   \n",
       "10865   22293  tt0060666    0.035919      19000           0   \n",
       "\n",
       "                     original_title  \\\n",
       "0                    Jurassic World   \n",
       "1                Mad Max: Fury Road   \n",
       "2                         Insurgent   \n",
       "3      Star Wars: The Force Awakens   \n",
       "4                         Furious 7   \n",
       "...                             ...   \n",
       "10861            The Endless Summer   \n",
       "10862                    Grand Prix   \n",
       "10863           Beregis Avtomobilya   \n",
       "10864        What's Up, Tiger Lily?   \n",
       "10865      Manos: The Hands of Fate   \n",
       "\n",
       "                                                    cast  \\\n",
       "0      Chris Pratt|Bryce Dallas Howard|Irrfan Khan|Vi...   \n",
       "1      Tom Hardy|Charlize Theron|Hugh Keays-Byrne|Nic...   \n",
       "2      Shailene Woodley|Theo James|Kate Winslet|Ansel...   \n",
       "3      Harrison Ford|Mark Hamill|Carrie Fisher|Adam D...   \n",
       "4      Vin Diesel|Paul Walker|Jason Statham|Michelle ...   \n",
       "...                                                  ...   \n",
       "10861  Michael Hynson|Robert August|Lord 'Tally Ho' B...   \n",
       "10862  James Garner|Eva Marie Saint|Yves Montand|Tosh...   \n",
       "10863  Innokentiy Smoktunovskiy|Oleg Efremov|Georgi Z...   \n",
       "10864  Tatsuya Mihashi|Akiko Wakabayashi|Mie Hama|Joh...   \n",
       "10865  Harold P. Warren|Tom Neyman|John Reynolds|Dian...   \n",
       "\n",
       "                                                homepage            director  \\\n",
       "0                          http://www.jurassicworld.com/     Colin Trevorrow   \n",
       "1                            http://www.madmaxmovie.com/       George Miller   \n",
       "2         http://www.thedivergentseries.movie/#insurgent    Robert Schwentke   \n",
       "3      http://www.starwars.com/films/star-wars-episod...         J.J. Abrams   \n",
       "4                               http://www.furious7.com/           James Wan   \n",
       "...                                                  ...                 ...   \n",
       "10861                                                NaN         Bruce Brown   \n",
       "10862                                                NaN  John Frankenheimer   \n",
       "10863                                                NaN      Eldar Ryazanov   \n",
       "10864                                                NaN         Woody Allen   \n",
       "10865                                                NaN    Harold P. Warren   \n",
       "\n",
       "                                                 tagline  ...  \\\n",
       "0                                      The park is open.  ...   \n",
       "1                                     What a Lovely Day.  ...   \n",
       "2                             One Choice Can Destroy You  ...   \n",
       "3                          Every generation has a story.  ...   \n",
       "4                                    Vengeance Hits Home  ...   \n",
       "...                                                  ...  ...   \n",
       "10861                                                NaN  ...   \n",
       "10862  Cinerama sweeps YOU into a drama of speed and ...  ...   \n",
       "10863                                                NaN  ...   \n",
       "10864                          WOODY ALLEN STRIKES BACK!  ...   \n",
       "10865       It's Shocking! It's Beyond Your Imagination!  ...   \n",
       "\n",
       "                                                overview runtime  \\\n",
       "0      Twenty-two years after the events of Jurassic ...     124   \n",
       "1      An apocalyptic story set in the furthest reach...     120   \n",
       "2      Beatrice Prior must confront her inner demons ...     119   \n",
       "3      Thirty years after defeating the Galactic Empi...     136   \n",
       "4      Deckard Shaw seeks revenge against Dominic Tor...     137   \n",
       "...                                                  ...     ...   \n",
       "10861  The Endless Summer, by Bruce Brown, is one of ...      95   \n",
       "10862  Grand Prix driver Pete Aron is fired by his te...     176   \n",
       "10863  An insurance agent who moonlights as a carthie...      94   \n",
       "10864  In comic Woody Allen's film debut, he took the...      80   \n",
       "10865  A family gets lost on the road and stumbles up...      74   \n",
       "\n",
       "                                          genres  \\\n",
       "0      Action|Adventure|Science Fiction|Thriller   \n",
       "1      Action|Adventure|Science Fiction|Thriller   \n",
       "2             Adventure|Science Fiction|Thriller   \n",
       "3       Action|Adventure|Science Fiction|Fantasy   \n",
       "4                          Action|Crime|Thriller   \n",
       "...                                          ...   \n",
       "10861                                Documentary   \n",
       "10862                     Action|Adventure|Drama   \n",
       "10863                             Mystery|Comedy   \n",
       "10864                              Action|Comedy   \n",
       "10865                                     Horror   \n",
       "\n",
       "                                    production_companies release_date  \\\n",
       "0      Universal Studios|Amblin Entertainment|Legenda...       6/9/15   \n",
       "1      Village Roadshow Pictures|Kennedy Miller Produ...      5/13/15   \n",
       "2      Summit Entertainment|Mandeville Films|Red Wago...      3/18/15   \n",
       "3              Lucasfilm|Truenorth Productions|Bad Robot     12/15/15   \n",
       "4      Universal Pictures|Original Film|Media Rights ...       4/1/15   \n",
       "...                                                  ...          ...   \n",
       "10861                                  Bruce Brown Films      6/15/66   \n",
       "10862  Cherokee Productions|Joel Productions|Douglas ...     12/21/66   \n",
       "10863                                            Mosfilm       1/1/66   \n",
       "10864                            Benedict Pictures Corp.      11/2/66   \n",
       "10865                                          Norm-Iris     11/15/66   \n",
       "\n",
       "      vote_count  vote_average  release_year    budget_adj   revenue_adj  \n",
       "0           5562           6.5          2015  1.379999e+08  1.392446e+09  \n",
       "1           6185           7.1          2015  1.379999e+08  3.481613e+08  \n",
       "2           2480           6.3          2015  1.012000e+08  2.716190e+08  \n",
       "3           5292           7.5          2015  1.839999e+08  1.902723e+09  \n",
       "4           2947           7.3          2015  1.747999e+08  1.385749e+09  \n",
       "...          ...           ...           ...           ...           ...  \n",
       "10861         11           7.4          1966  0.000000e+00  0.000000e+00  \n",
       "10862         20           5.7          1966  0.000000e+00  0.000000e+00  \n",
       "10863         11           6.5          1966  0.000000e+00  0.000000e+00  \n",
       "10864         22           5.4          1966  0.000000e+00  0.000000e+00  \n",
       "10865         15           1.5          1966  1.276423e+05  0.000000e+00  \n",
       "\n",
       "[10866 rows x 21 columns]>"
      ]
     },
     "execution_count": 16,
     "metadata": {},
     "output_type": "execute_result"
    }
   ],
   "source": [
    "# display a sample of the dataframe\n",
    "df.sample"
   ]
  },
  {
   "cell_type": "code",
   "execution_count": 17,
   "metadata": {
    "scrolled": true
   },
   "outputs": [
    {
     "data": {
      "text/html": [
       "<div>\n",
       "<style scoped>\n",
       "    .dataframe tbody tr th:only-of-type {\n",
       "        vertical-align: middle;\n",
       "    }\n",
       "\n",
       "    .dataframe tbody tr th {\n",
       "        vertical-align: top;\n",
       "    }\n",
       "\n",
       "    .dataframe thead th {\n",
       "        text-align: right;\n",
       "    }\n",
       "</style>\n",
       "<table border=\"1\" class=\"dataframe\">\n",
       "  <thead>\n",
       "    <tr style=\"text-align: right;\">\n",
       "      <th></th>\n",
       "      <th>id</th>\n",
       "      <th>popularity</th>\n",
       "      <th>budget</th>\n",
       "      <th>revenue</th>\n",
       "      <th>runtime</th>\n",
       "      <th>vote_count</th>\n",
       "      <th>vote_average</th>\n",
       "      <th>release_year</th>\n",
       "      <th>budget_adj</th>\n",
       "      <th>revenue_adj</th>\n",
       "    </tr>\n",
       "  </thead>\n",
       "  <tbody>\n",
       "    <tr>\n",
       "      <th>count</th>\n",
       "      <td>10866.000000</td>\n",
       "      <td>10866.000000</td>\n",
       "      <td>1.086600e+04</td>\n",
       "      <td>1.086600e+04</td>\n",
       "      <td>10866.000000</td>\n",
       "      <td>10866.000000</td>\n",
       "      <td>10866.000000</td>\n",
       "      <td>10866.000000</td>\n",
       "      <td>1.086600e+04</td>\n",
       "      <td>1.086600e+04</td>\n",
       "    </tr>\n",
       "    <tr>\n",
       "      <th>mean</th>\n",
       "      <td>66064.177434</td>\n",
       "      <td>0.646441</td>\n",
       "      <td>1.462570e+07</td>\n",
       "      <td>3.982332e+07</td>\n",
       "      <td>102.070863</td>\n",
       "      <td>217.389748</td>\n",
       "      <td>5.974922</td>\n",
       "      <td>2001.322658</td>\n",
       "      <td>1.755104e+07</td>\n",
       "      <td>5.136436e+07</td>\n",
       "    </tr>\n",
       "    <tr>\n",
       "      <th>std</th>\n",
       "      <td>92130.136561</td>\n",
       "      <td>1.000185</td>\n",
       "      <td>3.091321e+07</td>\n",
       "      <td>1.170035e+08</td>\n",
       "      <td>31.381405</td>\n",
       "      <td>575.619058</td>\n",
       "      <td>0.935142</td>\n",
       "      <td>12.812941</td>\n",
       "      <td>3.430616e+07</td>\n",
       "      <td>1.446325e+08</td>\n",
       "    </tr>\n",
       "    <tr>\n",
       "      <th>min</th>\n",
       "      <td>5.000000</td>\n",
       "      <td>0.000065</td>\n",
       "      <td>0.000000e+00</td>\n",
       "      <td>0.000000e+00</td>\n",
       "      <td>0.000000</td>\n",
       "      <td>10.000000</td>\n",
       "      <td>1.500000</td>\n",
       "      <td>1960.000000</td>\n",
       "      <td>0.000000e+00</td>\n",
       "      <td>0.000000e+00</td>\n",
       "    </tr>\n",
       "    <tr>\n",
       "      <th>25%</th>\n",
       "      <td>10596.250000</td>\n",
       "      <td>0.207583</td>\n",
       "      <td>0.000000e+00</td>\n",
       "      <td>0.000000e+00</td>\n",
       "      <td>90.000000</td>\n",
       "      <td>17.000000</td>\n",
       "      <td>5.400000</td>\n",
       "      <td>1995.000000</td>\n",
       "      <td>0.000000e+00</td>\n",
       "      <td>0.000000e+00</td>\n",
       "    </tr>\n",
       "    <tr>\n",
       "      <th>50%</th>\n",
       "      <td>20669.000000</td>\n",
       "      <td>0.383856</td>\n",
       "      <td>0.000000e+00</td>\n",
       "      <td>0.000000e+00</td>\n",
       "      <td>99.000000</td>\n",
       "      <td>38.000000</td>\n",
       "      <td>6.000000</td>\n",
       "      <td>2006.000000</td>\n",
       "      <td>0.000000e+00</td>\n",
       "      <td>0.000000e+00</td>\n",
       "    </tr>\n",
       "    <tr>\n",
       "      <th>75%</th>\n",
       "      <td>75610.000000</td>\n",
       "      <td>0.713817</td>\n",
       "      <td>1.500000e+07</td>\n",
       "      <td>2.400000e+07</td>\n",
       "      <td>111.000000</td>\n",
       "      <td>145.750000</td>\n",
       "      <td>6.600000</td>\n",
       "      <td>2011.000000</td>\n",
       "      <td>2.085325e+07</td>\n",
       "      <td>3.369710e+07</td>\n",
       "    </tr>\n",
       "    <tr>\n",
       "      <th>max</th>\n",
       "      <td>417859.000000</td>\n",
       "      <td>32.985763</td>\n",
       "      <td>4.250000e+08</td>\n",
       "      <td>2.781506e+09</td>\n",
       "      <td>900.000000</td>\n",
       "      <td>9767.000000</td>\n",
       "      <td>9.200000</td>\n",
       "      <td>2015.000000</td>\n",
       "      <td>4.250000e+08</td>\n",
       "      <td>2.827124e+09</td>\n",
       "    </tr>\n",
       "  </tbody>\n",
       "</table>\n",
       "</div>"
      ],
      "text/plain": [
       "                  id    popularity        budget       revenue       runtime  \\\n",
       "count   10866.000000  10866.000000  1.086600e+04  1.086600e+04  10866.000000   \n",
       "mean    66064.177434      0.646441  1.462570e+07  3.982332e+07    102.070863   \n",
       "std     92130.136561      1.000185  3.091321e+07  1.170035e+08     31.381405   \n",
       "min         5.000000      0.000065  0.000000e+00  0.000000e+00      0.000000   \n",
       "25%     10596.250000      0.207583  0.000000e+00  0.000000e+00     90.000000   \n",
       "50%     20669.000000      0.383856  0.000000e+00  0.000000e+00     99.000000   \n",
       "75%     75610.000000      0.713817  1.500000e+07  2.400000e+07    111.000000   \n",
       "max    417859.000000     32.985763  4.250000e+08  2.781506e+09    900.000000   \n",
       "\n",
       "         vote_count  vote_average  release_year    budget_adj   revenue_adj  \n",
       "count  10866.000000  10866.000000  10866.000000  1.086600e+04  1.086600e+04  \n",
       "mean     217.389748      5.974922   2001.322658  1.755104e+07  5.136436e+07  \n",
       "std      575.619058      0.935142     12.812941  3.430616e+07  1.446325e+08  \n",
       "min       10.000000      1.500000   1960.000000  0.000000e+00  0.000000e+00  \n",
       "25%       17.000000      5.400000   1995.000000  0.000000e+00  0.000000e+00  \n",
       "50%       38.000000      6.000000   2006.000000  0.000000e+00  0.000000e+00  \n",
       "75%      145.750000      6.600000   2011.000000  2.085325e+07  3.369710e+07  \n",
       "max     9767.000000      9.200000   2015.000000  4.250000e+08  2.827124e+09  "
      ]
     },
     "execution_count": 17,
     "metadata": {},
     "output_type": "execute_result"
    }
   ],
   "source": [
    "# display a static summary of the dataframe\n",
    "df.describe()"
   ]
  },
  {
   "cell_type": "markdown",
   "metadata": {},
   "source": [
    "## Data Cleaning "
   ]
  },
  {
   "cell_type": "markdown",
   "metadata": {},
   "source": [
    "#### Cleaning steps in the second part of this section.\n"
   ]
  },
  {
   "cell_type": "markdown",
   "metadata": {},
   "source": [
    "### 1. Rearrange columns "
   ]
  },
  {
   "cell_type": "code",
   "execution_count": 18,
   "metadata": {},
   "outputs": [
    {
     "data": {
      "text/plain": [
       "Index(['id', 'imdb_id', 'popularity', 'budget', 'revenue', 'original_title',\n",
       "       'cast', 'homepage', 'director', 'tagline', 'keywords', 'overview',\n",
       "       'runtime', 'genres', 'production_companies', 'release_date',\n",
       "       'vote_count', 'vote_average', 'release_year', 'budget_adj',\n",
       "       'revenue_adj'],\n",
       "      dtype='object')"
      ]
     },
     "execution_count": 18,
     "metadata": {},
     "output_type": "execute_result"
    }
   ],
   "source": [
    "df.columns"
   ]
  },
  {
   "cell_type": "code",
   "execution_count": 19,
   "metadata": {},
   "outputs": [],
   "source": [
    "col = ['original_title','genres','release_year','id', 'imdb_id', 'popularity', 'budget', 'revenue',\n",
    "       'cast', 'homepage', 'director', 'tagline', 'keywords', 'overview',\n",
    "       'runtime', 'production_companies', 'release_date',\n",
    "       'vote_count', 'vote_average', 'budget_adj',\n",
    "       'revenue_adj']\n",
    "\n",
    "df= df.reindex(columns=col)\n",
    "       \n",
    "       "
   ]
  },
  {
   "cell_type": "code",
   "execution_count": 20,
   "metadata": {},
   "outputs": [
    {
     "data": {
      "text/plain": [
       "Index(['original_title', 'genres', 'release_year', 'id', 'imdb_id',\n",
       "       'popularity', 'budget', 'revenue', 'cast', 'homepage', 'director',\n",
       "       'tagline', 'keywords', 'overview', 'runtime', 'production_companies',\n",
       "       'release_date', 'vote_count', 'vote_average', 'budget_adj',\n",
       "       'revenue_adj'],\n",
       "      dtype='object')"
      ]
     },
     "execution_count": 20,
     "metadata": {},
     "output_type": "execute_result"
    }
   ],
   "source": [
    "df.columns"
   ]
  },
  {
   "cell_type": "markdown",
   "metadata": {},
   "source": [
    "### 2. Removing columns with unnecessary Values"
   ]
  },
  {
   "cell_type": "code",
   "execution_count": 21,
   "metadata": {},
   "outputs": [],
   "source": [
    "df.drop(['id', 'imdb_id','tagline','homepage','overview'], axis=1, inplace=True)"
   ]
  },
  {
   "cell_type": "markdown",
   "metadata": {},
   "source": [
    "### 3. Changing the release date column into standard date format"
   ]
  },
  {
   "cell_type": "code",
   "execution_count": 22,
   "metadata": {},
   "outputs": [],
   "source": [
    "df.release_date = pd.to_datetime(df['release_date'])"
   ]
  },
  {
   "cell_type": "markdown",
   "metadata": {},
   "source": [
    "### 4. Changing format of budget and revenue columns"
   ]
  },
  {
   "cell_type": "code",
   "execution_count": 23,
   "metadata": {},
   "outputs": [],
   "source": [
    "cols = ['budget', 'revenue','budget_adj', 'revenue_adj']\n",
    "df[cols] = df[cols].applymap(np.int64)"
   ]
  },
  {
   "cell_type": "code",
   "execution_count": 24,
   "metadata": {},
   "outputs": [
    {
     "data": {
      "text/plain": [
       "original_title                  object\n",
       "genres                          object\n",
       "release_year                     int64\n",
       "popularity                     float64\n",
       "budget                           int64\n",
       "revenue                          int64\n",
       "cast                            object\n",
       "director                        object\n",
       "keywords                        object\n",
       "runtime                          int64\n",
       "production_companies            object\n",
       "release_date            datetime64[ns]\n",
       "vote_count                       int64\n",
       "vote_average                   float64\n",
       "budget_adj                       int64\n",
       "revenue_adj                      int64\n",
       "dtype: object"
      ]
     },
     "execution_count": 24,
     "metadata": {},
     "output_type": "execute_result"
    }
   ],
   "source": [
    "df.dtypes"
   ]
  },
  {
   "cell_type": "markdown",
   "metadata": {},
   "source": [
    " ### 5.Replace value \"0\" with mean "
   ]
  },
  {
   "cell_type": "code",
   "execution_count": 25,
   "metadata": {},
   "outputs": [
    {
     "data": {
      "text/plain": [
       "0            6016\n",
       "12000000       10\n",
       "10000000        8\n",
       "11000000        7\n",
       "6000000         6\n",
       "             ... \n",
       "53676580        1\n",
       "617000          1\n",
       "13001257        1\n",
       "504050219       1\n",
       "20518905        1\n",
       "Name: revenue, Length: 4702, dtype: int64"
      ]
     },
     "execution_count": 25,
     "metadata": {},
     "output_type": "execute_result"
    }
   ],
   "source": [
    "df.revenue.value_counts()"
   ]
  },
  {
   "cell_type": "markdown",
   "metadata": {},
   "source": [
    "### mean value before Replace \"0\"value"
   ]
  },
  {
   "cell_type": "code",
   "execution_count": 26,
   "metadata": {},
   "outputs": [
    {
     "data": {
      "text/plain": [
       "39823319.79339223"
      ]
     },
     "execution_count": 26,
     "metadata": {},
     "output_type": "execute_result"
    }
   ],
   "source": [
    "revenue_mean= df.revenue.mean()\n",
    "revenue_mean"
   ]
  },
  {
   "cell_type": "code",
   "execution_count": 27,
   "metadata": {},
   "outputs": [
    {
     "data": {
      "text/plain": [
       "14625701.09414688"
      ]
     },
     "execution_count": 27,
     "metadata": {},
     "output_type": "execute_result"
    }
   ],
   "source": [
    "budget_mean= df.budget.mean()\n",
    "budget_mean"
   ]
  },
  {
   "cell_type": "code",
   "execution_count": 28,
   "metadata": {},
   "outputs": [
    {
     "data": {
      "text/plain": [
       "51364363.03929689"
      ]
     },
     "execution_count": 28,
     "metadata": {},
     "output_type": "execute_result"
    }
   ],
   "source": [
    "revenue_adj_mean= df.revenue_adj.mean()\n",
    "revenue_adj_mean"
   ]
  },
  {
   "cell_type": "code",
   "execution_count": 29,
   "metadata": {
    "scrolled": true
   },
   "outputs": [
    {
     "data": {
      "text/plain": [
       "17551039.596999817"
      ]
     },
     "execution_count": 29,
     "metadata": {},
     "output_type": "execute_result"
    }
   ],
   "source": [
    "budget_adj_mean= df.budget_adj.mean()\n",
    "budget_adj_mean"
   ]
  },
  {
   "cell_type": "code",
   "execution_count": 30,
   "metadata": {},
   "outputs": [
    {
     "data": {
      "text/html": [
       "<div>\n",
       "<style scoped>\n",
       "    .dataframe tbody tr th:only-of-type {\n",
       "        vertical-align: middle;\n",
       "    }\n",
       "\n",
       "    .dataframe tbody tr th {\n",
       "        vertical-align: top;\n",
       "    }\n",
       "\n",
       "    .dataframe thead th {\n",
       "        text-align: right;\n",
       "    }\n",
       "</style>\n",
       "<table border=\"1\" class=\"dataframe\">\n",
       "  <thead>\n",
       "    <tr style=\"text-align: right;\">\n",
       "      <th></th>\n",
       "      <th>original_title</th>\n",
       "      <th>genres</th>\n",
       "      <th>release_year</th>\n",
       "      <th>popularity</th>\n",
       "      <th>budget</th>\n",
       "      <th>revenue</th>\n",
       "      <th>cast</th>\n",
       "      <th>director</th>\n",
       "      <th>keywords</th>\n",
       "      <th>runtime</th>\n",
       "      <th>production_companies</th>\n",
       "      <th>release_date</th>\n",
       "      <th>vote_count</th>\n",
       "      <th>vote_average</th>\n",
       "      <th>budget_adj</th>\n",
       "      <th>revenue_adj</th>\n",
       "      <th>Profit_1</th>\n",
       "    </tr>\n",
       "  </thead>\n",
       "  <tbody>\n",
       "    <tr>\n",
       "      <th>0</th>\n",
       "      <td>Jurassic World</td>\n",
       "      <td>Action|Adventure|Science Fiction|Thriller</td>\n",
       "      <td>2015</td>\n",
       "      <td>32.985763</td>\n",
       "      <td>150000000</td>\n",
       "      <td>1513528810</td>\n",
       "      <td>Chris Pratt|Bryce Dallas Howard|Irrfan Khan|Vi...</td>\n",
       "      <td>Colin Trevorrow</td>\n",
       "      <td>monster|dna|tyrannosaurus rex|velociraptor|island</td>\n",
       "      <td>124</td>\n",
       "      <td>Universal Studios|Amblin Entertainment|Legenda...</td>\n",
       "      <td>2015-06-09</td>\n",
       "      <td>5562</td>\n",
       "      <td>6.5</td>\n",
       "      <td>137999939</td>\n",
       "      <td>1392445892</td>\n",
       "      <td>1363528810</td>\n",
       "    </tr>\n",
       "    <tr>\n",
       "      <th>1</th>\n",
       "      <td>Mad Max: Fury Road</td>\n",
       "      <td>Action|Adventure|Science Fiction|Thriller</td>\n",
       "      <td>2015</td>\n",
       "      <td>28.419936</td>\n",
       "      <td>150000000</td>\n",
       "      <td>378436354</td>\n",
       "      <td>Tom Hardy|Charlize Theron|Hugh Keays-Byrne|Nic...</td>\n",
       "      <td>George Miller</td>\n",
       "      <td>future|chase|post-apocalyptic|dystopia|australia</td>\n",
       "      <td>120</td>\n",
       "      <td>Village Roadshow Pictures|Kennedy Miller Produ...</td>\n",
       "      <td>2015-05-13</td>\n",
       "      <td>6185</td>\n",
       "      <td>7.1</td>\n",
       "      <td>137999939</td>\n",
       "      <td>348161292</td>\n",
       "      <td>228436354</td>\n",
       "    </tr>\n",
       "  </tbody>\n",
       "</table>\n",
       "</div>"
      ],
      "text/plain": [
       "       original_title                                     genres  \\\n",
       "0      Jurassic World  Action|Adventure|Science Fiction|Thriller   \n",
       "1  Mad Max: Fury Road  Action|Adventure|Science Fiction|Thriller   \n",
       "\n",
       "   release_year  popularity     budget     revenue  \\\n",
       "0          2015   32.985763  150000000  1513528810   \n",
       "1          2015   28.419936  150000000   378436354   \n",
       "\n",
       "                                                cast         director  \\\n",
       "0  Chris Pratt|Bryce Dallas Howard|Irrfan Khan|Vi...  Colin Trevorrow   \n",
       "1  Tom Hardy|Charlize Theron|Hugh Keays-Byrne|Nic...    George Miller   \n",
       "\n",
       "                                            keywords  runtime  \\\n",
       "0  monster|dna|tyrannosaurus rex|velociraptor|island      124   \n",
       "1   future|chase|post-apocalyptic|dystopia|australia      120   \n",
       "\n",
       "                                production_companies release_date  vote_count  \\\n",
       "0  Universal Studios|Amblin Entertainment|Legenda...   2015-06-09        5562   \n",
       "1  Village Roadshow Pictures|Kennedy Miller Produ...   2015-05-13        6185   \n",
       "\n",
       "   vote_average  budget_adj  revenue_adj    Profit_1  \n",
       "0           6.5   137999939   1392445892  1363528810  \n",
       "1           7.1   137999939    348161292   228436354  "
      ]
     },
     "execution_count": 30,
     "metadata": {},
     "output_type": "execute_result"
    }
   ],
   "source": [
    "#calculate Profit for each of the movie\n",
    "#add a new column in the dataframe name 'Profit\n",
    "df['Profit_1'] = df['revenue'] -df['budget']\n",
    "\n",
    "df.head(2)"
   ]
  },
  {
   "cell_type": "code",
   "execution_count": 31,
   "metadata": {},
   "outputs": [
    {
     "data": {
      "text/plain": [
       "0            6016\n",
       "12000000       10\n",
       "10000000        8\n",
       "11000000        7\n",
       "6000000         6\n",
       "             ... \n",
       "53676580        1\n",
       "617000          1\n",
       "13001257        1\n",
       "504050219       1\n",
       "20518905        1\n",
       "Name: revenue, Length: 4702, dtype: int64"
      ]
     },
     "execution_count": 31,
     "metadata": {},
     "output_type": "execute_result"
    }
   ],
   "source": [
    "df.revenue.value_counts()"
   ]
  },
  {
   "cell_type": "code",
   "execution_count": 32,
   "metadata": {},
   "outputs": [
    {
     "data": {
      "text/html": [
       "<div>\n",
       "<style scoped>\n",
       "    .dataframe tbody tr th:only-of-type {\n",
       "        vertical-align: middle;\n",
       "    }\n",
       "\n",
       "    .dataframe tbody tr th {\n",
       "        vertical-align: top;\n",
       "    }\n",
       "\n",
       "    .dataframe thead th {\n",
       "        text-align: right;\n",
       "    }\n",
       "</style>\n",
       "<table border=\"1\" class=\"dataframe\">\n",
       "  <thead>\n",
       "    <tr style=\"text-align: right;\">\n",
       "      <th></th>\n",
       "      <th>original_title</th>\n",
       "      <th>genres</th>\n",
       "      <th>release_year</th>\n",
       "      <th>popularity</th>\n",
       "      <th>budget</th>\n",
       "      <th>revenue</th>\n",
       "      <th>cast</th>\n",
       "      <th>director</th>\n",
       "      <th>keywords</th>\n",
       "      <th>runtime</th>\n",
       "      <th>production_companies</th>\n",
       "      <th>release_date</th>\n",
       "      <th>vote_count</th>\n",
       "      <th>vote_average</th>\n",
       "      <th>budget_adj</th>\n",
       "      <th>revenue_adj</th>\n",
       "      <th>Profit_1</th>\n",
       "    </tr>\n",
       "  </thead>\n",
       "  <tbody>\n",
       "    <tr>\n",
       "      <th>174</th>\n",
       "      <td>Jenny's Wedding</td>\n",
       "      <td>Comedy|Drama</td>\n",
       "      <td>2015</td>\n",
       "      <td>0.861179</td>\n",
       "      <td>0</td>\n",
       "      <td>0</td>\n",
       "      <td>Katherine Heigl|Tom Wilkinson|Alexis Bledel|Gr...</td>\n",
       "      <td>Mary Agnes Donoghue</td>\n",
       "      <td>woman director</td>\n",
       "      <td>94</td>\n",
       "      <td>MM Productions|Merced Media Partners|PalmStar ...</td>\n",
       "      <td>2015-07-31</td>\n",
       "      <td>92</td>\n",
       "      <td>5.2</td>\n",
       "      <td>0</td>\n",
       "      <td>0</td>\n",
       "      <td>0</td>\n",
       "    </tr>\n",
       "    <tr>\n",
       "      <th>227</th>\n",
       "      <td>Careful What You Wish For</td>\n",
       "      <td>Thriller</td>\n",
       "      <td>2015</td>\n",
       "      <td>0.586735</td>\n",
       "      <td>8000000</td>\n",
       "      <td>0</td>\n",
       "      <td>Dermot Mulroney|Kandyse McClure|Isabel Lucas|G...</td>\n",
       "      <td>Elizabeth Allen Rosenbaum</td>\n",
       "      <td>woman director</td>\n",
       "      <td>91</td>\n",
       "      <td>Hyde Park Entertainment|Troika Pictures|Amasia...</td>\n",
       "      <td>2015-05-06</td>\n",
       "      <td>57</td>\n",
       "      <td>5.4</td>\n",
       "      <td>7359996</td>\n",
       "      <td>0</td>\n",
       "      <td>-8000000</td>\n",
       "    </tr>\n",
       "    <tr>\n",
       "      <th>302</th>\n",
       "      <td>The Girl in the Book</td>\n",
       "      <td>Drama</td>\n",
       "      <td>2015</td>\n",
       "      <td>0.405095</td>\n",
       "      <td>0</td>\n",
       "      <td>0</td>\n",
       "      <td>Emily VanCamp|Michael Nyqvist|Ana Mulvoy Ten|T...</td>\n",
       "      <td>Marya Cohn</td>\n",
       "      <td>woman director</td>\n",
       "      <td>86</td>\n",
       "      <td>Varient Busted Buggy Entertainmen</td>\n",
       "      <td>2015-06-13</td>\n",
       "      <td>23</td>\n",
       "      <td>6.2</td>\n",
       "      <td>0</td>\n",
       "      <td>0</td>\n",
       "      <td>0</td>\n",
       "    </tr>\n",
       "    <tr>\n",
       "      <th>336</th>\n",
       "      <td>Zipper</td>\n",
       "      <td>Thriller|Drama</td>\n",
       "      <td>2015</td>\n",
       "      <td>0.357567</td>\n",
       "      <td>0</td>\n",
       "      <td>0</td>\n",
       "      <td>Patrick Wilson|Lena Headey|Richard Dreyfuss|Ra...</td>\n",
       "      <td>Mora Stephens</td>\n",
       "      <td>woman director</td>\n",
       "      <td>103</td>\n",
       "      <td>Protozoa Pictures|Cargo Entertainment|33 Pictures</td>\n",
       "      <td>2015-08-28</td>\n",
       "      <td>30</td>\n",
       "      <td>5.5</td>\n",
       "      <td>0</td>\n",
       "      <td>0</td>\n",
       "      <td>0</td>\n",
       "    </tr>\n",
       "    <tr>\n",
       "      <th>372</th>\n",
       "      <td>Learning to Drive</td>\n",
       "      <td>Romance|Comedy|Drama</td>\n",
       "      <td>2015</td>\n",
       "      <td>0.307395</td>\n",
       "      <td>0</td>\n",
       "      <td>3447633</td>\n",
       "      <td>Patricia Clarkson|Ben Kingsley|Jake Weber|Sari...</td>\n",
       "      <td>Isabel Coixet</td>\n",
       "      <td>woman director</td>\n",
       "      <td>105</td>\n",
       "      <td>Broad Green Pictures|Lavender Pictures</td>\n",
       "      <td>2015-08-06</td>\n",
       "      <td>44</td>\n",
       "      <td>5.9</td>\n",
       "      <td>0</td>\n",
       "      <td>3171820</td>\n",
       "      <td>3447633</td>\n",
       "    </tr>\n",
       "    <tr>\n",
       "      <th>...</th>\n",
       "      <td>...</td>\n",
       "      <td>...</td>\n",
       "      <td>...</td>\n",
       "      <td>...</td>\n",
       "      <td>...</td>\n",
       "      <td>...</td>\n",
       "      <td>...</td>\n",
       "      <td>...</td>\n",
       "      <td>...</td>\n",
       "      <td>...</td>\n",
       "      <td>...</td>\n",
       "      <td>...</td>\n",
       "      <td>...</td>\n",
       "      <td>...</td>\n",
       "      <td>...</td>\n",
       "      <td>...</td>\n",
       "      <td>...</td>\n",
       "    </tr>\n",
       "    <tr>\n",
       "      <th>9406</th>\n",
       "      <td>Pure Luck</td>\n",
       "      <td>Comedy|Crime|Mystery</td>\n",
       "      <td>1991</td>\n",
       "      <td>0.245828</td>\n",
       "      <td>0</td>\n",
       "      <td>0</td>\n",
       "      <td>Martin Short|Danny Glover|Harry Shearer|Sheila...</td>\n",
       "      <td>Nadia Tass</td>\n",
       "      <td>woman director</td>\n",
       "      <td>96</td>\n",
       "      <td>Universal Pictures|Silver Lion Films|Sean Dani...</td>\n",
       "      <td>1991-08-09</td>\n",
       "      <td>13</td>\n",
       "      <td>6.7</td>\n",
       "      <td>0</td>\n",
       "      <td>0</td>\n",
       "      <td>0</td>\n",
       "    </tr>\n",
       "    <tr>\n",
       "      <th>9422</th>\n",
       "      <td>He Said, She Said</td>\n",
       "      <td>Comedy|Drama|Romance</td>\n",
       "      <td>1991</td>\n",
       "      <td>0.202054</td>\n",
       "      <td>0</td>\n",
       "      <td>0</td>\n",
       "      <td>Kevin Bacon|Elizabeth Perkins|Nathan Lane|Anth...</td>\n",
       "      <td>Ken Kwapis|Marisa Silver</td>\n",
       "      <td>woman director</td>\n",
       "      <td>115</td>\n",
       "      <td>Paramount Pictures</td>\n",
       "      <td>1991-02-22</td>\n",
       "      <td>10</td>\n",
       "      <td>5.2</td>\n",
       "      <td>0</td>\n",
       "      <td>0</td>\n",
       "      <td>0</td>\n",
       "    </tr>\n",
       "    <tr>\n",
       "      <th>9556</th>\n",
       "      <td>La Vie est un long fleuve tranquille</td>\n",
       "      <td>Comedy</td>\n",
       "      <td>1988</td>\n",
       "      <td>0.194418</td>\n",
       "      <td>0</td>\n",
       "      <td>0</td>\n",
       "      <td>BenoÃ®t Magimel|ValÃ©rie Lalande|Catherine Hie...</td>\n",
       "      <td>Ã‰tienne Chatiliez</td>\n",
       "      <td>woman director</td>\n",
       "      <td>90</td>\n",
       "      <td>MK2 Productions|France 3 Cinema|Centre Nationa...</td>\n",
       "      <td>1988-02-03</td>\n",
       "      <td>28</td>\n",
       "      <td>7.2</td>\n",
       "      <td>0</td>\n",
       "      <td>0</td>\n",
       "      <td>0</td>\n",
       "    </tr>\n",
       "    <tr>\n",
       "      <th>9843</th>\n",
       "      <td>Grey Gardens</td>\n",
       "      <td>Documentary</td>\n",
       "      <td>1975</td>\n",
       "      <td>0.125881</td>\n",
       "      <td>0</td>\n",
       "      <td>0</td>\n",
       "      <td>Edith Bouvier Beale|Brooks Hyers|Norman Vincen...</td>\n",
       "      <td>Ellen Hovde|Muffie Meyer|Albert Maysles|David ...</td>\n",
       "      <td>woman director</td>\n",
       "      <td>100</td>\n",
       "      <td>Portrait Films</td>\n",
       "      <td>1975-09-27</td>\n",
       "      <td>22</td>\n",
       "      <td>7.2</td>\n",
       "      <td>0</td>\n",
       "      <td>0</td>\n",
       "      <td>0</td>\n",
       "    </tr>\n",
       "    <tr>\n",
       "      <th>10102</th>\n",
       "      <td>Xiaoao jiang hu</td>\n",
       "      <td>Action|Drama|History</td>\n",
       "      <td>1990</td>\n",
       "      <td>0.073640</td>\n",
       "      <td>2068041</td>\n",
       "      <td>0</td>\n",
       "      <td>Samuel Hui|Cecilia Yip|Jacky Cheung|Sharla Che...</td>\n",
       "      <td>King Hu|Tsui Hark|Ann Hui|Ching Siu-Tung|Raymo...</td>\n",
       "      <td>woman director</td>\n",
       "      <td>120</td>\n",
       "      <td>NaN</td>\n",
       "      <td>1990-04-05</td>\n",
       "      <td>12</td>\n",
       "      <td>6.9</td>\n",
       "      <td>3451350</td>\n",
       "      <td>0</td>\n",
       "      <td>-2068041</td>\n",
       "    </tr>\n",
       "  </tbody>\n",
       "</table>\n",
       "<p>134 rows × 17 columns</p>\n",
       "</div>"
      ],
      "text/plain": [
       "                             original_title                genres  \\\n",
       "174                         Jenny's Wedding          Comedy|Drama   \n",
       "227               Careful What You Wish For              Thriller   \n",
       "302                    The Girl in the Book                 Drama   \n",
       "336                                  Zipper        Thriller|Drama   \n",
       "372                       Learning to Drive  Romance|Comedy|Drama   \n",
       "...                                     ...                   ...   \n",
       "9406                              Pure Luck  Comedy|Crime|Mystery   \n",
       "9422                      He Said, She Said  Comedy|Drama|Romance   \n",
       "9556   La Vie est un long fleuve tranquille                Comedy   \n",
       "9843                           Grey Gardens           Documentary   \n",
       "10102                       Xiaoao jiang hu  Action|Drama|History   \n",
       "\n",
       "       release_year  popularity   budget  revenue  \\\n",
       "174            2015    0.861179        0        0   \n",
       "227            2015    0.586735  8000000        0   \n",
       "302            2015    0.405095        0        0   \n",
       "336            2015    0.357567        0        0   \n",
       "372            2015    0.307395        0  3447633   \n",
       "...             ...         ...      ...      ...   \n",
       "9406           1991    0.245828        0        0   \n",
       "9422           1991    0.202054        0        0   \n",
       "9556           1988    0.194418        0        0   \n",
       "9843           1975    0.125881        0        0   \n",
       "10102          1990    0.073640  2068041        0   \n",
       "\n",
       "                                                    cast  \\\n",
       "174    Katherine Heigl|Tom Wilkinson|Alexis Bledel|Gr...   \n",
       "227    Dermot Mulroney|Kandyse McClure|Isabel Lucas|G...   \n",
       "302    Emily VanCamp|Michael Nyqvist|Ana Mulvoy Ten|T...   \n",
       "336    Patrick Wilson|Lena Headey|Richard Dreyfuss|Ra...   \n",
       "372    Patricia Clarkson|Ben Kingsley|Jake Weber|Sari...   \n",
       "...                                                  ...   \n",
       "9406   Martin Short|Danny Glover|Harry Shearer|Sheila...   \n",
       "9422   Kevin Bacon|Elizabeth Perkins|Nathan Lane|Anth...   \n",
       "9556   BenoÃ®t Magimel|ValÃ©rie Lalande|Catherine Hie...   \n",
       "9843   Edith Bouvier Beale|Brooks Hyers|Norman Vincen...   \n",
       "10102  Samuel Hui|Cecilia Yip|Jacky Cheung|Sharla Che...   \n",
       "\n",
       "                                                director        keywords  \\\n",
       "174                                  Mary Agnes Donoghue  woman director   \n",
       "227                            Elizabeth Allen Rosenbaum  woman director   \n",
       "302                                           Marya Cohn  woman director   \n",
       "336                                        Mora Stephens  woman director   \n",
       "372                                        Isabel Coixet  woman director   \n",
       "...                                                  ...             ...   \n",
       "9406                                          Nadia Tass  woman director   \n",
       "9422                            Ken Kwapis|Marisa Silver  woman director   \n",
       "9556                                  Ã‰tienne Chatiliez  woman director   \n",
       "9843   Ellen Hovde|Muffie Meyer|Albert Maysles|David ...  woman director   \n",
       "10102  King Hu|Tsui Hark|Ann Hui|Ching Siu-Tung|Raymo...  woman director   \n",
       "\n",
       "       runtime                               production_companies  \\\n",
       "174         94  MM Productions|Merced Media Partners|PalmStar ...   \n",
       "227         91  Hyde Park Entertainment|Troika Pictures|Amasia...   \n",
       "302         86                  Varient Busted Buggy Entertainmen   \n",
       "336        103  Protozoa Pictures|Cargo Entertainment|33 Pictures   \n",
       "372        105             Broad Green Pictures|Lavender Pictures   \n",
       "...        ...                                                ...   \n",
       "9406        96  Universal Pictures|Silver Lion Films|Sean Dani...   \n",
       "9422       115                                 Paramount Pictures   \n",
       "9556        90  MK2 Productions|France 3 Cinema|Centre Nationa...   \n",
       "9843       100                                     Portrait Films   \n",
       "10102      120                                                NaN   \n",
       "\n",
       "      release_date  vote_count  vote_average  budget_adj  revenue_adj  \\\n",
       "174     2015-07-31          92           5.2           0            0   \n",
       "227     2015-05-06          57           5.4     7359996            0   \n",
       "302     2015-06-13          23           6.2           0            0   \n",
       "336     2015-08-28          30           5.5           0            0   \n",
       "372     2015-08-06          44           5.9           0      3171820   \n",
       "...            ...         ...           ...         ...          ...   \n",
       "9406    1991-08-09          13           6.7           0            0   \n",
       "9422    1991-02-22          10           5.2           0            0   \n",
       "9556    1988-02-03          28           7.2           0            0   \n",
       "9843    1975-09-27          22           7.2           0            0   \n",
       "10102   1990-04-05          12           6.9     3451350            0   \n",
       "\n",
       "       Profit_1  \n",
       "174           0  \n",
       "227    -8000000  \n",
       "302           0  \n",
       "336           0  \n",
       "372     3447633  \n",
       "...         ...  \n",
       "9406          0  \n",
       "9422          0  \n",
       "9556          0  \n",
       "9843          0  \n",
       "10102  -2068041  \n",
       "\n",
       "[134 rows x 17 columns]"
      ]
     },
     "execution_count": 32,
     "metadata": {},
     "output_type": "execute_result"
    }
   ],
   "source": [
    "# Explore the Data frame 'keywords' ='woman director'\n",
    "df2=df.loc[df['keywords'] =='woman director']\n",
    "df2"
   ]
  },
  {
   "cell_type": "code",
   "execution_count": 33,
   "metadata": {},
   "outputs": [
    {
     "data": {
      "text/plain": [
       "0           117\n",
       "6000000       2\n",
       "12000000      2\n",
       "8000000       2\n",
       "15000000      1\n",
       "300000        1\n",
       "24000000      1\n",
       "11000000      1\n",
       "7000000       1\n",
       "20000000      1\n",
       "2500000       1\n",
       "250000        1\n",
       "1400000       1\n",
       "10000000      1\n",
       "2068041       1\n",
       "Name: budget, dtype: int64"
      ]
     },
     "execution_count": 33,
     "metadata": {},
     "output_type": "execute_result"
    }
   ],
   "source": [
    "df2.budget.value_counts()"
   ]
  },
  {
   "cell_type": "code",
   "execution_count": 34,
   "metadata": {},
   "outputs": [
    {
     "data": {
      "text/plain": [
       "0           119\n",
       "32251         1\n",
       "38105395      1\n",
       "278000        1\n",
       "5217498       1\n",
       "13769         1\n",
       "32726956      1\n",
       "24995         1\n",
       "26488734      1\n",
       "884100        1\n",
       "4187          1\n",
       "3447633       1\n",
       "21520719      1\n",
       "201275        1\n",
       "4186931       1\n",
       "9576495       1\n",
       "Name: revenue, dtype: int64"
      ]
     },
     "execution_count": 34,
     "metadata": {},
     "output_type": "execute_result"
    }
   ],
   "source": [
    "df2.revenue.value_counts()"
   ]
  },
  {
   "cell_type": "markdown",
   "metadata": {},
   "source": [
    "**we notice that woman director movies has a multi missing data for budget and revenue and that will reflect in calculate profit**\n",
    "\n",
    "**as we see woman director is 134 rows × 17 columns there is 117 budget and 119 revenue value equal to zero or missing**"
   ]
  },
  {
   "cell_type": "code",
   "execution_count": 35,
   "metadata": {},
   "outputs": [
    {
     "data": {
      "image/png": "[encoded data removed]",
      "text/plain": [
       "<Figure size 1080x720 with 1 Axes>"
      ]
     },
     "metadata": {
      "needs_background": "light"
     },
     "output_type": "display_data"
    }
   ],
   "source": [
    "# Plot scatter plot of Profit_1 and runtime \n",
    "df.plot(x='Profit_1', y='runtime', kind='scatter', figsize=(15,10),color='dodgerblue')\n",
    "plt.title('profit vs. runtime')\n",
    "plt.xlabel('profit_1')\n",
    "plt.ylabel('runtime');"
   ]
  },
  {
   "cell_type": "markdown",
   "metadata": {},
   "source": [
    "#### ***we make that step to check if replacing Replace value \"0\" with mean will change our view to the data set***\n"
   ]
  },
  {
   "cell_type": "code",
   "execution_count": 36,
   "metadata": {},
   "outputs": [],
   "source": [
    "df.loc[df['revenue'] == 0 , 'revenue'] = revenue_mean\n",
    "df.loc[df['budget'] == 0 , 'budget'] = budget_mean\n",
    "df.loc[df['revenue_adj'] == 0 , 'revenue_adj'] = revenue_adj_mean\n",
    "df.loc[df['budget_adj'] == 0 , 'budget_adj'] = budget_adj_mean\n"
   ]
  },
  {
   "cell_type": "markdown",
   "metadata": {},
   "source": [
    "### mean value after Replace \"0\"value with the mean"
   ]
  },
  {
   "cell_type": "code",
   "execution_count": 37,
   "metadata": {},
   "outputs": [
    {
     "data": {
      "text/plain": [
       "61871644.09645201"
      ]
     },
     "execution_count": 37,
     "metadata": {},
     "output_type": "execute_result"
    }
   ],
   "source": [
    "df.revenue.mean()"
   ]
  },
  {
   "cell_type": "code",
   "execution_count": 38,
   "metadata": {},
   "outputs": [
    {
     "data": {
      "text/plain": [
       "22292551.216755074"
      ]
     },
     "execution_count": 38,
     "metadata": {},
     "output_type": "execute_result"
    }
   ],
   "source": [
    "df.budget.mean()"
   ]
  },
  {
   "cell_type": "code",
   "execution_count": 39,
   "metadata": {},
   "outputs": [
    {
     "data": {
      "text/plain": [
       "79802427.46451408"
      ]
     },
     "execution_count": 39,
     "metadata": {},
     "output_type": "execute_result"
    }
   ],
   "source": [
    "df.revenue_adj.mean()"
   ]
  },
  {
   "cell_type": "code",
   "execution_count": 40,
   "metadata": {},
   "outputs": [
    {
     "data": {
      "text/plain": [
       "26754594.13626955"
      ]
     },
     "execution_count": 40,
     "metadata": {},
     "output_type": "execute_result"
    }
   ],
   "source": [
    "df.budget_adj.mean()"
   ]
  },
  {
   "cell_type": "code",
   "execution_count": 41,
   "metadata": {
    "scrolled": true
   },
   "outputs": [
    {
     "data": {
      "text/plain": [
       "3.982332e+07    6016\n",
       "1.200000e+07      10\n",
       "1.000000e+07       8\n",
       "1.100000e+07       7\n",
       "2.000000e+06       6\n",
       "                ... \n",
       "1.150000e+08       1\n",
       "2.376813e+08       1\n",
       "4.418098e+08       1\n",
       "3.123963e+06       1\n",
       "1.507394e+07       1\n",
       "Name: revenue, Length: 4702, dtype: int64"
      ]
     },
     "execution_count": 41,
     "metadata": {},
     "output_type": "execute_result"
    }
   ],
   "source": [
    "df.revenue.value_counts()"
   ]
  },
  {
   "cell_type": "code",
   "execution_count": 42,
   "metadata": {},
   "outputs": [],
   "source": [
    "cols = ['budget', 'revenue','budget_adj', 'revenue_adj']\n",
    "df[cols] = df[cols].applymap(np.int64)"
   ]
  },
  {
   "cell_type": "code",
   "execution_count": 43,
   "metadata": {
    "scrolled": true
   },
   "outputs": [
    {
     "data": {
      "text/html": [
       "<div>\n",
       "<style scoped>\n",
       "    .dataframe tbody tr th:only-of-type {\n",
       "        vertical-align: middle;\n",
       "    }\n",
       "\n",
       "    .dataframe tbody tr th {\n",
       "        vertical-align: top;\n",
       "    }\n",
       "\n",
       "    .dataframe thead th {\n",
       "        text-align: right;\n",
       "    }\n",
       "</style>\n",
       "<table border=\"1\" class=\"dataframe\">\n",
       "  <thead>\n",
       "    <tr style=\"text-align: right;\">\n",
       "      <th></th>\n",
       "      <th>original_title</th>\n",
       "      <th>genres</th>\n",
       "      <th>release_year</th>\n",
       "      <th>popularity</th>\n",
       "      <th>budget</th>\n",
       "      <th>revenue</th>\n",
       "      <th>cast</th>\n",
       "      <th>director</th>\n",
       "      <th>keywords</th>\n",
       "      <th>runtime</th>\n",
       "      <th>production_companies</th>\n",
       "      <th>release_date</th>\n",
       "      <th>vote_count</th>\n",
       "      <th>vote_average</th>\n",
       "      <th>budget_adj</th>\n",
       "      <th>revenue_adj</th>\n",
       "      <th>Profit_1</th>\n",
       "      <th>Profit_2</th>\n",
       "    </tr>\n",
       "  </thead>\n",
       "  <tbody>\n",
       "    <tr>\n",
       "      <th>0</th>\n",
       "      <td>Jurassic World</td>\n",
       "      <td>Action|Adventure|Science Fiction|Thriller</td>\n",
       "      <td>2015</td>\n",
       "      <td>32.985763</td>\n",
       "      <td>150000000</td>\n",
       "      <td>1513528810</td>\n",
       "      <td>Chris Pratt|Bryce Dallas Howard|Irrfan Khan|Vi...</td>\n",
       "      <td>Colin Trevorrow</td>\n",
       "      <td>monster|dna|tyrannosaurus rex|velociraptor|island</td>\n",
       "      <td>124</td>\n",
       "      <td>Universal Studios|Amblin Entertainment|Legenda...</td>\n",
       "      <td>2015-06-09</td>\n",
       "      <td>5562</td>\n",
       "      <td>6.5</td>\n",
       "      <td>137999939</td>\n",
       "      <td>1392445892</td>\n",
       "      <td>1363528810</td>\n",
       "      <td>1363528810</td>\n",
       "    </tr>\n",
       "    <tr>\n",
       "      <th>1</th>\n",
       "      <td>Mad Max: Fury Road</td>\n",
       "      <td>Action|Adventure|Science Fiction|Thriller</td>\n",
       "      <td>2015</td>\n",
       "      <td>28.419936</td>\n",
       "      <td>150000000</td>\n",
       "      <td>378436354</td>\n",
       "      <td>Tom Hardy|Charlize Theron|Hugh Keays-Byrne|Nic...</td>\n",
       "      <td>George Miller</td>\n",
       "      <td>future|chase|post-apocalyptic|dystopia|australia</td>\n",
       "      <td>120</td>\n",
       "      <td>Village Roadshow Pictures|Kennedy Miller Produ...</td>\n",
       "      <td>2015-05-13</td>\n",
       "      <td>6185</td>\n",
       "      <td>7.1</td>\n",
       "      <td>137999939</td>\n",
       "      <td>348161292</td>\n",
       "      <td>228436354</td>\n",
       "      <td>228436354</td>\n",
       "    </tr>\n",
       "  </tbody>\n",
       "</table>\n",
       "</div>"
      ],
      "text/plain": [
       "       original_title                                     genres  \\\n",
       "0      Jurassic World  Action|Adventure|Science Fiction|Thriller   \n",
       "1  Mad Max: Fury Road  Action|Adventure|Science Fiction|Thriller   \n",
       "\n",
       "   release_year  popularity     budget     revenue  \\\n",
       "0          2015   32.985763  150000000  1513528810   \n",
       "1          2015   28.419936  150000000   378436354   \n",
       "\n",
       "                                                cast         director  \\\n",
       "0  Chris Pratt|Bryce Dallas Howard|Irrfan Khan|Vi...  Colin Trevorrow   \n",
       "1  Tom Hardy|Charlize Theron|Hugh Keays-Byrne|Nic...    George Miller   \n",
       "\n",
       "                                            keywords  runtime  \\\n",
       "0  monster|dna|tyrannosaurus rex|velociraptor|island      124   \n",
       "1   future|chase|post-apocalyptic|dystopia|australia      120   \n",
       "\n",
       "                                production_companies release_date  vote_count  \\\n",
       "0  Universal Studios|Amblin Entertainment|Legenda...   2015-06-09        5562   \n",
       "1  Village Roadshow Pictures|Kennedy Miller Produ...   2015-05-13        6185   \n",
       "\n",
       "   vote_average  budget_adj  revenue_adj    Profit_1    Profit_2  \n",
       "0           6.5   137999939   1392445892  1363528810  1363528810  \n",
       "1           7.1   137999939    348161292   228436354   228436354  "
      ]
     },
     "execution_count": 43,
     "metadata": {},
     "output_type": "execute_result"
    }
   ],
   "source": [
    "#calculate Profit for each of the movie\n",
    "#add a new column in the dataframe name 'Profit\n",
    "df['Profit_2'] = df['revenue'] -df['budget']\n",
    "\n",
    "df.head(2)"
   ]
  },
  {
   "cell_type": "code",
   "execution_count": 44,
   "metadata": {},
   "outputs": [
    {
     "data": {
      "text/plain": [
       "original_title                  object\n",
       "genres                          object\n",
       "release_year                     int64\n",
       "popularity                     float64\n",
       "budget                           int64\n",
       "revenue                          int64\n",
       "cast                            object\n",
       "director                        object\n",
       "keywords                        object\n",
       "runtime                          int64\n",
       "production_companies            object\n",
       "release_date            datetime64[ns]\n",
       "vote_count                       int64\n",
       "vote_average                   float64\n",
       "budget_adj                       int64\n",
       "revenue_adj                      int64\n",
       "Profit_1                         int64\n",
       "Profit_2                         int64\n",
       "dtype: object"
      ]
     },
     "execution_count": 44,
     "metadata": {},
     "output_type": "execute_result"
    }
   ],
   "source": [
    "df .dtypes"
   ]
  },
  {
   "cell_type": "markdown",
   "metadata": {},
   "source": [
    " ### 7. making new Data Frame with profit with less Column"
   ]
  },
  {
   "cell_type": "code",
   "execution_count": 45,
   "metadata": {},
   "outputs": [
    {
     "data": {
      "text/html": [
       "<div>\n",
       "<style scoped>\n",
       "    .dataframe tbody tr th:only-of-type {\n",
       "        vertical-align: middle;\n",
       "    }\n",
       "\n",
       "    .dataframe tbody tr th {\n",
       "        vertical-align: top;\n",
       "    }\n",
       "\n",
       "    .dataframe thead th {\n",
       "        text-align: right;\n",
       "    }\n",
       "</style>\n",
       "<table border=\"1\" class=\"dataframe\">\n",
       "  <thead>\n",
       "    <tr style=\"text-align: right;\">\n",
       "      <th></th>\n",
       "      <th>original_title</th>\n",
       "      <th>release_year</th>\n",
       "      <th>popularity</th>\n",
       "      <th>director</th>\n",
       "      <th>keywords</th>\n",
       "      <th>runtime</th>\n",
       "      <th>vote_average</th>\n",
       "      <th>Profit_1</th>\n",
       "      <th>Profit_2</th>\n",
       "    </tr>\n",
       "  </thead>\n",
       "  <tbody>\n",
       "    <tr>\n",
       "      <th>0</th>\n",
       "      <td>Jurassic World</td>\n",
       "      <td>2015</td>\n",
       "      <td>32.985763</td>\n",
       "      <td>Colin Trevorrow</td>\n",
       "      <td>monster|dna|tyrannosaurus rex|velociraptor|island</td>\n",
       "      <td>124</td>\n",
       "      <td>6.5</td>\n",
       "      <td>1363528810</td>\n",
       "      <td>1363528810</td>\n",
       "    </tr>\n",
       "    <tr>\n",
       "      <th>1</th>\n",
       "      <td>Mad Max: Fury Road</td>\n",
       "      <td>2015</td>\n",
       "      <td>28.419936</td>\n",
       "      <td>George Miller</td>\n",
       "      <td>future|chase|post-apocalyptic|dystopia|australia</td>\n",
       "      <td>120</td>\n",
       "      <td>7.1</td>\n",
       "      <td>228436354</td>\n",
       "      <td>228436354</td>\n",
       "    </tr>\n",
       "    <tr>\n",
       "      <th>2</th>\n",
       "      <td>Insurgent</td>\n",
       "      <td>2015</td>\n",
       "      <td>13.112507</td>\n",
       "      <td>Robert Schwentke</td>\n",
       "      <td>based on novel|revolution|dystopia|sequel|dyst...</td>\n",
       "      <td>119</td>\n",
       "      <td>6.3</td>\n",
       "      <td>185238201</td>\n",
       "      <td>185238201</td>\n",
       "    </tr>\n",
       "    <tr>\n",
       "      <th>3</th>\n",
       "      <td>Star Wars: The Force Awakens</td>\n",
       "      <td>2015</td>\n",
       "      <td>11.173104</td>\n",
       "      <td>J.J. Abrams</td>\n",
       "      <td>android|spaceship|jedi|space opera|3d</td>\n",
       "      <td>136</td>\n",
       "      <td>7.5</td>\n",
       "      <td>1868178225</td>\n",
       "      <td>1868178225</td>\n",
       "    </tr>\n",
       "    <tr>\n",
       "      <th>4</th>\n",
       "      <td>Furious 7</td>\n",
       "      <td>2015</td>\n",
       "      <td>9.335014</td>\n",
       "      <td>James Wan</td>\n",
       "      <td>car race|speed|revenge|suspense|car</td>\n",
       "      <td>137</td>\n",
       "      <td>7.3</td>\n",
       "      <td>1316249360</td>\n",
       "      <td>1316249360</td>\n",
       "    </tr>\n",
       "  </tbody>\n",
       "</table>\n",
       "</div>"
      ],
      "text/plain": [
       "                 original_title  release_year  popularity          director  \\\n",
       "0                Jurassic World          2015   32.985763   Colin Trevorrow   \n",
       "1            Mad Max: Fury Road          2015   28.419936     George Miller   \n",
       "2                     Insurgent          2015   13.112507  Robert Schwentke   \n",
       "3  Star Wars: The Force Awakens          2015   11.173104       J.J. Abrams   \n",
       "4                     Furious 7          2015    9.335014         James Wan   \n",
       "\n",
       "                                            keywords  runtime  vote_average  \\\n",
       "0  monster|dna|tyrannosaurus rex|velociraptor|island      124           6.5   \n",
       "1   future|chase|post-apocalyptic|dystopia|australia      120           7.1   \n",
       "2  based on novel|revolution|dystopia|sequel|dyst...      119           6.3   \n",
       "3              android|spaceship|jedi|space opera|3d      136           7.5   \n",
       "4                car race|speed|revenge|suspense|car      137           7.3   \n",
       "\n",
       "     Profit_1    Profit_2  \n",
       "0  1363528810  1363528810  \n",
       "1   228436354   228436354  \n",
       "2   185238201   185238201  \n",
       "3  1868178225  1868178225  \n",
       "4  1316249360  1316249360  "
      ]
     },
     "execution_count": 45,
     "metadata": {},
     "output_type": "execute_result"
    }
   ],
   "source": [
    "df_profit = df.drop(['revenue', 'budget','revenue_adj','budget_adj','cast','production_companies','genres','release_date','vote_count'], axis=1, inplace=True)\n",
    "df_profit =df.to_csv (r'C:\\Users\\Abdelrazek\\Downloads\\investigate-tmdb-movies-dataset\\movies-profit.csv', index = False, header=True)\n",
    "df_profit = pd.read_csv('movies-profit.csv')\n",
    "df_profit.head()"
   ]
  },
  {
   "cell_type": "code",
   "execution_count": 46,
   "metadata": {
    "scrolled": true
   },
   "outputs": [
    {
     "data": {
      "text/plain": [
       "(10866, 9)"
      ]
     },
     "execution_count": 46,
     "metadata": {},
     "output_type": "execute_result"
    }
   ],
   "source": [
    "df_profit.shape  "
   ]
  },
  {
   "cell_type": "code",
   "execution_count": 47,
   "metadata": {},
   "outputs": [
    {
     "data": {
      "text/html": [
       "<div>\n",
       "<style scoped>\n",
       "    .dataframe tbody tr th:only-of-type {\n",
       "        vertical-align: middle;\n",
       "    }\n",
       "\n",
       "    .dataframe tbody tr th {\n",
       "        vertical-align: top;\n",
       "    }\n",
       "\n",
       "    .dataframe thead th {\n",
       "        text-align: right;\n",
       "    }\n",
       "</style>\n",
       "<table border=\"1\" class=\"dataframe\">\n",
       "  <thead>\n",
       "    <tr style=\"text-align: right;\">\n",
       "      <th></th>\n",
       "      <th>release_year</th>\n",
       "      <th>popularity</th>\n",
       "      <th>runtime</th>\n",
       "      <th>vote_average</th>\n",
       "      <th>Profit_1</th>\n",
       "      <th>Profit_2</th>\n",
       "    </tr>\n",
       "  </thead>\n",
       "  <tbody>\n",
       "    <tr>\n",
       "      <th>count</th>\n",
       "      <td>10866.000000</td>\n",
       "      <td>10866.000000</td>\n",
       "      <td>10866.000000</td>\n",
       "      <td>10866.000000</td>\n",
       "      <td>1.086600e+04</td>\n",
       "      <td>1.086600e+04</td>\n",
       "    </tr>\n",
       "    <tr>\n",
       "      <th>mean</th>\n",
       "      <td>2001.322658</td>\n",
       "      <td>0.646441</td>\n",
       "      <td>102.070863</td>\n",
       "      <td>5.974922</td>\n",
       "      <td>2.519762e+07</td>\n",
       "      <td>3.957909e+07</td>\n",
       "    </tr>\n",
       "    <tr>\n",
       "      <th>std</th>\n",
       "      <td>12.812941</td>\n",
       "      <td>1.000185</td>\n",
       "      <td>31.381405</td>\n",
       "      <td>0.935142</td>\n",
       "      <td>9.658799e+07</td>\n",
       "      <td>9.339421e+07</td>\n",
       "    </tr>\n",
       "    <tr>\n",
       "      <th>min</th>\n",
       "      <td>1960.000000</td>\n",
       "      <td>0.000065</td>\n",
       "      <td>0.000000</td>\n",
       "      <td>1.500000</td>\n",
       "      <td>-4.139124e+08</td>\n",
       "      <td>-4.139124e+08</td>\n",
       "    </tr>\n",
       "    <tr>\n",
       "      <th>25%</th>\n",
       "      <td>1995.000000</td>\n",
       "      <td>0.207583</td>\n",
       "      <td>90.000000</td>\n",
       "      <td>5.400000</td>\n",
       "      <td>0.000000e+00</td>\n",
       "      <td>1.435662e+07</td>\n",
       "    </tr>\n",
       "    <tr>\n",
       "      <th>50%</th>\n",
       "      <td>2006.000000</td>\n",
       "      <td>0.383856</td>\n",
       "      <td>99.000000</td>\n",
       "      <td>6.000000</td>\n",
       "      <td>0.000000e+00</td>\n",
       "      <td>2.519762e+07</td>\n",
       "    </tr>\n",
       "    <tr>\n",
       "      <th>75%</th>\n",
       "      <td>2011.000000</td>\n",
       "      <td>0.713817</td>\n",
       "      <td>111.000000</td>\n",
       "      <td>6.600000</td>\n",
       "      <td>9.083358e+06</td>\n",
       "      <td>2.837769e+07</td>\n",
       "    </tr>\n",
       "    <tr>\n",
       "      <th>max</th>\n",
       "      <td>2015.000000</td>\n",
       "      <td>32.985763</td>\n",
       "      <td>900.000000</td>\n",
       "      <td>9.200000</td>\n",
       "      <td>2.544506e+09</td>\n",
       "      <td>2.544506e+09</td>\n",
       "    </tr>\n",
       "  </tbody>\n",
       "</table>\n",
       "</div>"
      ],
      "text/plain": [
       "       release_year    popularity       runtime  vote_average      Profit_1  \\\n",
       "count  10866.000000  10866.000000  10866.000000  10866.000000  1.086600e+04   \n",
       "mean    2001.322658      0.646441    102.070863      5.974922  2.519762e+07   \n",
       "std       12.812941      1.000185     31.381405      0.935142  9.658799e+07   \n",
       "min     1960.000000      0.000065      0.000000      1.500000 -4.139124e+08   \n",
       "25%     1995.000000      0.207583     90.000000      5.400000  0.000000e+00   \n",
       "50%     2006.000000      0.383856     99.000000      6.000000  0.000000e+00   \n",
       "75%     2011.000000      0.713817    111.000000      6.600000  9.083358e+06   \n",
       "max     2015.000000     32.985763    900.000000      9.200000  2.544506e+09   \n",
       "\n",
       "           Profit_2  \n",
       "count  1.086600e+04  \n",
       "mean   3.957909e+07  \n",
       "std    9.339421e+07  \n",
       "min   -4.139124e+08  \n",
       "25%    1.435662e+07  \n",
       "50%    2.519762e+07  \n",
       "75%    2.837769e+07  \n",
       "max    2.544506e+09  "
      ]
     },
     "execution_count": 47,
     "metadata": {},
     "output_type": "execute_result"
    }
   ],
   "source": [
    "df_profit.describe()"
   ]
  },
  {
   "cell_type": "markdown",
   "metadata": {},
   "source": [
    "### 8. explore data with keywords 'woman director' and making new dataframe"
   ]
  },
  {
   "cell_type": "code",
   "execution_count": 48,
   "metadata": {},
   "outputs": [
    {
     "data": {
      "text/html": [
       "<div>\n",
       "<style scoped>\n",
       "    .dataframe tbody tr th:only-of-type {\n",
       "        vertical-align: middle;\n",
       "    }\n",
       "\n",
       "    .dataframe tbody tr th {\n",
       "        vertical-align: top;\n",
       "    }\n",
       "\n",
       "    .dataframe thead th {\n",
       "        text-align: right;\n",
       "    }\n",
       "</style>\n",
       "<table border=\"1\" class=\"dataframe\">\n",
       "  <thead>\n",
       "    <tr style=\"text-align: right;\">\n",
       "      <th></th>\n",
       "      <th>original_title</th>\n",
       "      <th>release_year</th>\n",
       "      <th>popularity</th>\n",
       "      <th>director</th>\n",
       "      <th>keywords</th>\n",
       "      <th>runtime</th>\n",
       "      <th>vote_average</th>\n",
       "      <th>Profit_1</th>\n",
       "      <th>Profit_2</th>\n",
       "    </tr>\n",
       "  </thead>\n",
       "  <tbody>\n",
       "    <tr>\n",
       "      <th>0</th>\n",
       "      <td>Jenny's Wedding</td>\n",
       "      <td>2015</td>\n",
       "      <td>0.861179</td>\n",
       "      <td>Mary Agnes Donoghue</td>\n",
       "      <td>woman director</td>\n",
       "      <td>94</td>\n",
       "      <td>5.2</td>\n",
       "      <td>0</td>\n",
       "      <td>25197618</td>\n",
       "    </tr>\n",
       "    <tr>\n",
       "      <th>1</th>\n",
       "      <td>Careful What You Wish For</td>\n",
       "      <td>2015</td>\n",
       "      <td>0.586735</td>\n",
       "      <td>Elizabeth Allen Rosenbaum</td>\n",
       "      <td>woman director</td>\n",
       "      <td>91</td>\n",
       "      <td>5.4</td>\n",
       "      <td>-8000000</td>\n",
       "      <td>31823319</td>\n",
       "    </tr>\n",
       "    <tr>\n",
       "      <th>2</th>\n",
       "      <td>The Girl in the Book</td>\n",
       "      <td>2015</td>\n",
       "      <td>0.405095</td>\n",
       "      <td>Marya Cohn</td>\n",
       "      <td>woman director</td>\n",
       "      <td>86</td>\n",
       "      <td>6.2</td>\n",
       "      <td>0</td>\n",
       "      <td>25197618</td>\n",
       "    </tr>\n",
       "    <tr>\n",
       "      <th>3</th>\n",
       "      <td>Zipper</td>\n",
       "      <td>2015</td>\n",
       "      <td>0.357567</td>\n",
       "      <td>Mora Stephens</td>\n",
       "      <td>woman director</td>\n",
       "      <td>103</td>\n",
       "      <td>5.5</td>\n",
       "      <td>0</td>\n",
       "      <td>25197618</td>\n",
       "    </tr>\n",
       "    <tr>\n",
       "      <th>4</th>\n",
       "      <td>Learning to Drive</td>\n",
       "      <td>2015</td>\n",
       "      <td>0.307395</td>\n",
       "      <td>Isabel Coixet</td>\n",
       "      <td>woman director</td>\n",
       "      <td>105</td>\n",
       "      <td>5.9</td>\n",
       "      <td>3447633</td>\n",
       "      <td>-11178068</td>\n",
       "    </tr>\n",
       "  </tbody>\n",
       "</table>\n",
       "</div>"
      ],
      "text/plain": [
       "              original_title  release_year  popularity  \\\n",
       "0            Jenny's Wedding          2015    0.861179   \n",
       "1  Careful What You Wish For          2015    0.586735   \n",
       "2       The Girl in the Book          2015    0.405095   \n",
       "3                     Zipper          2015    0.357567   \n",
       "4          Learning to Drive          2015    0.307395   \n",
       "\n",
       "                    director        keywords  runtime  vote_average  Profit_1  \\\n",
       "0        Mary Agnes Donoghue  woman director       94           5.2         0   \n",
       "1  Elizabeth Allen Rosenbaum  woman director       91           5.4  -8000000   \n",
       "2                 Marya Cohn  woman director       86           6.2         0   \n",
       "3              Mora Stephens  woman director      103           5.5         0   \n",
       "4              Isabel Coixet  woman director      105           5.9   3447633   \n",
       "\n",
       "   Profit_2  \n",
       "0  25197618  \n",
       "1  31823319  \n",
       "2  25197618  \n",
       "3  25197618  \n",
       "4 -11178068  "
      ]
     },
     "execution_count": 48,
     "metadata": {},
     "output_type": "execute_result"
    }
   ],
   "source": [
    "df_woman_director=df_profit.loc[df_profit['keywords'] =='woman director']\n",
    "df_woman_director.to_csv (r'C:\\Users\\Abdelrazek\\Downloads\\investigate-tmdb-movies-dataset\\woman_director.csv', index = False, header=True)\n",
    "df_woman_director = pd.read_csv('woman_director.csv')\n",
    "\n",
    "df_woman_director.head()"
   ]
  },
  {
   "cell_type": "markdown",
   "metadata": {},
   "source": [
    " **the multi missing data for budget and revenue  reflect in calculate profit as Profit_1 before add mean value**"
   ]
  },
  {
   "cell_type": "code",
   "execution_count": 49,
   "metadata": {},
   "outputs": [],
   "source": [
    "df_woman_director.drop(['keywords'], axis=1, inplace=True)"
   ]
  },
  {
   "cell_type": "code",
   "execution_count": 50,
   "metadata": {},
   "outputs": [
    {
     "data": {
      "text/plain": [
       "(134, 8)"
      ]
     },
     "execution_count": 50,
     "metadata": {},
     "output_type": "execute_result"
    }
   ],
   "source": [
    "df_woman_director.shape"
   ]
  },
  {
   "cell_type": "code",
   "execution_count": 51,
   "metadata": {},
   "outputs": [
    {
     "data": {
      "text/html": [
       "<div>\n",
       "<style scoped>\n",
       "    .dataframe tbody tr th:only-of-type {\n",
       "        vertical-align: middle;\n",
       "    }\n",
       "\n",
       "    .dataframe tbody tr th {\n",
       "        vertical-align: top;\n",
       "    }\n",
       "\n",
       "    .dataframe thead th {\n",
       "        text-align: right;\n",
       "    }\n",
       "</style>\n",
       "<table border=\"1\" class=\"dataframe\">\n",
       "  <thead>\n",
       "    <tr style=\"text-align: right;\">\n",
       "      <th></th>\n",
       "      <th>release_year</th>\n",
       "      <th>popularity</th>\n",
       "      <th>runtime</th>\n",
       "      <th>vote_average</th>\n",
       "      <th>Profit_1</th>\n",
       "      <th>Profit_2</th>\n",
       "    </tr>\n",
       "  </thead>\n",
       "  <tbody>\n",
       "    <tr>\n",
       "      <th>count</th>\n",
       "      <td>134.000000</td>\n",
       "      <td>134.000000</td>\n",
       "      <td>134.000000</td>\n",
       "      <td>134.000000</td>\n",
       "      <td>1.340000e+02</td>\n",
       "      <td>1.340000e+02</td>\n",
       "    </tr>\n",
       "    <tr>\n",
       "      <th>mean</th>\n",
       "      <td>2009.529851</td>\n",
       "      <td>0.263397</td>\n",
       "      <td>101.798507</td>\n",
       "      <td>5.934328</td>\n",
       "      <td>-2.096346e+04</td>\n",
       "      <td>2.257432e+07</td>\n",
       "    </tr>\n",
       "    <tr>\n",
       "      <th>std</th>\n",
       "      <td>6.712899</td>\n",
       "      <td>0.202354</td>\n",
       "      <td>44.413434</td>\n",
       "      <td>0.903719</td>\n",
       "      <td>4.778147e+06</td>\n",
       "      <td>1.075968e+07</td>\n",
       "    </tr>\n",
       "    <tr>\n",
       "      <th>min</th>\n",
       "      <td>1975.000000</td>\n",
       "      <td>0.003066</td>\n",
       "      <td>0.000000</td>\n",
       "      <td>3.900000</td>\n",
       "      <td>-2.000000e+07</td>\n",
       "      <td>-1.462151e+07</td>\n",
       "    </tr>\n",
       "    <tr>\n",
       "      <th>25%</th>\n",
       "      <td>2008.000000</td>\n",
       "      <td>0.126169</td>\n",
       "      <td>89.000000</td>\n",
       "      <td>5.300000</td>\n",
       "      <td>0.000000e+00</td>\n",
       "      <td>2.519762e+07</td>\n",
       "    </tr>\n",
       "    <tr>\n",
       "      <th>50%</th>\n",
       "      <td>2012.000000</td>\n",
       "      <td>0.214709</td>\n",
       "      <td>96.000000</td>\n",
       "      <td>5.800000</td>\n",
       "      <td>0.000000e+00</td>\n",
       "      <td>2.519762e+07</td>\n",
       "    </tr>\n",
       "    <tr>\n",
       "      <th>75%</th>\n",
       "      <td>2013.000000</td>\n",
       "      <td>0.348612</td>\n",
       "      <td>102.000000</td>\n",
       "      <td>6.475000</td>\n",
       "      <td>0.000000e+00</td>\n",
       "      <td>2.519762e+07</td>\n",
       "    </tr>\n",
       "    <tr>\n",
       "      <th>max</th>\n",
       "      <td>2015.000000</td>\n",
       "      <td>0.938457</td>\n",
       "      <td>470.000000</td>\n",
       "      <td>8.400000</td>\n",
       "      <td>2.710540e+07</td>\n",
       "      <td>3.952332e+07</td>\n",
       "    </tr>\n",
       "  </tbody>\n",
       "</table>\n",
       "</div>"
      ],
      "text/plain": [
       "       release_year  popularity     runtime  vote_average      Profit_1  \\\n",
       "count    134.000000  134.000000  134.000000    134.000000  1.340000e+02   \n",
       "mean    2009.529851    0.263397  101.798507      5.934328 -2.096346e+04   \n",
       "std        6.712899    0.202354   44.413434      0.903719  4.778147e+06   \n",
       "min     1975.000000    0.003066    0.000000      3.900000 -2.000000e+07   \n",
       "25%     2008.000000    0.126169   89.000000      5.300000  0.000000e+00   \n",
       "50%     2012.000000    0.214709   96.000000      5.800000  0.000000e+00   \n",
       "75%     2013.000000    0.348612  102.000000      6.475000  0.000000e+00   \n",
       "max     2015.000000    0.938457  470.000000      8.400000  2.710540e+07   \n",
       "\n",
       "           Profit_2  \n",
       "count  1.340000e+02  \n",
       "mean   2.257432e+07  \n",
       "std    1.075968e+07  \n",
       "min   -1.462151e+07  \n",
       "25%    2.519762e+07  \n",
       "50%    2.519762e+07  \n",
       "75%    2.519762e+07  \n",
       "max    3.952332e+07  "
      ]
     },
     "execution_count": 51,
     "metadata": {},
     "output_type": "execute_result"
    }
   ],
   "source": [
    "df_woman_director.describe()"
   ]
  },
  {
   "cell_type": "code",
   "execution_count": 52,
   "metadata": {},
   "outputs": [
    {
     "data": {
      "text/plain": [
       "original_title     object\n",
       "release_year        int64\n",
       "popularity        float64\n",
       "director           object\n",
       "runtime             int64\n",
       "vote_average      float64\n",
       "Profit_1            int64\n",
       "Profit_2            int64\n",
       "dtype: object"
      ]
     },
     "execution_count": 52,
     "metadata": {},
     "output_type": "execute_result"
    }
   ],
   "source": [
    "df_woman_director.dtypes"
   ]
  },
  {
   "cell_type": "code",
   "execution_count": 53,
   "metadata": {},
   "outputs": [
    {
     "name": "stdout",
     "output_type": "stream",
     "text": [
      "df_men_director_ready\n"
     ]
    },
    {
     "data": {
      "text/plain": [
       "(10866, 9)"
      ]
     },
     "execution_count": 53,
     "metadata": {},
     "output_type": "execute_result"
    }
   ],
   "source": [
    "df_men_director=df_profit.copy() \n",
    "print (\"df_men_director_ready\")\n",
    "df_men_director.shape"
   ]
  },
  {
   "cell_type": "markdown",
   "metadata": {},
   "source": [
    " ### 9. making new Data Frame with out  woman director "
   ]
  },
  {
   "cell_type": "code",
   "execution_count": 54,
   "metadata": {},
   "outputs": [
    {
     "data": {
      "text/html": [
       "<div>\n",
       "<style scoped>\n",
       "    .dataframe tbody tr th:only-of-type {\n",
       "        vertical-align: middle;\n",
       "    }\n",
       "\n",
       "    .dataframe tbody tr th {\n",
       "        vertical-align: top;\n",
       "    }\n",
       "\n",
       "    .dataframe thead th {\n",
       "        text-align: right;\n",
       "    }\n",
       "</style>\n",
       "<table border=\"1\" class=\"dataframe\">\n",
       "  <thead>\n",
       "    <tr style=\"text-align: right;\">\n",
       "      <th></th>\n",
       "      <th>original_title</th>\n",
       "      <th>release_year</th>\n",
       "      <th>popularity</th>\n",
       "      <th>director</th>\n",
       "      <th>runtime</th>\n",
       "      <th>vote_average</th>\n",
       "      <th>Profit_1</th>\n",
       "      <th>Profit_2</th>\n",
       "    </tr>\n",
       "  </thead>\n",
       "  <tbody>\n",
       "    <tr>\n",
       "      <th>0</th>\n",
       "      <td>Jurassic World</td>\n",
       "      <td>2015</td>\n",
       "      <td>32.985763</td>\n",
       "      <td>Colin Trevorrow</td>\n",
       "      <td>124</td>\n",
       "      <td>6.5</td>\n",
       "      <td>1363528810</td>\n",
       "      <td>1363528810</td>\n",
       "    </tr>\n",
       "    <tr>\n",
       "      <th>1</th>\n",
       "      <td>Mad Max: Fury Road</td>\n",
       "      <td>2015</td>\n",
       "      <td>28.419936</td>\n",
       "      <td>George Miller</td>\n",
       "      <td>120</td>\n",
       "      <td>7.1</td>\n",
       "      <td>228436354</td>\n",
       "      <td>228436354</td>\n",
       "    </tr>\n",
       "    <tr>\n",
       "      <th>2</th>\n",
       "      <td>Insurgent</td>\n",
       "      <td>2015</td>\n",
       "      <td>13.112507</td>\n",
       "      <td>Robert Schwentke</td>\n",
       "      <td>119</td>\n",
       "      <td>6.3</td>\n",
       "      <td>185238201</td>\n",
       "      <td>185238201</td>\n",
       "    </tr>\n",
       "    <tr>\n",
       "      <th>3</th>\n",
       "      <td>Star Wars: The Force Awakens</td>\n",
       "      <td>2015</td>\n",
       "      <td>11.173104</td>\n",
       "      <td>J.J. Abrams</td>\n",
       "      <td>136</td>\n",
       "      <td>7.5</td>\n",
       "      <td>1868178225</td>\n",
       "      <td>1868178225</td>\n",
       "    </tr>\n",
       "    <tr>\n",
       "      <th>4</th>\n",
       "      <td>Furious 7</td>\n",
       "      <td>2015</td>\n",
       "      <td>9.335014</td>\n",
       "      <td>James Wan</td>\n",
       "      <td>137</td>\n",
       "      <td>7.3</td>\n",
       "      <td>1316249360</td>\n",
       "      <td>1316249360</td>\n",
       "    </tr>\n",
       "  </tbody>\n",
       "</table>\n",
       "</div>"
      ],
      "text/plain": [
       "                 original_title  release_year  popularity          director  \\\n",
       "0                Jurassic World          2015   32.985763   Colin Trevorrow   \n",
       "1            Mad Max: Fury Road          2015   28.419936     George Miller   \n",
       "2                     Insurgent          2015   13.112507  Robert Schwentke   \n",
       "3  Star Wars: The Force Awakens          2015   11.173104       J.J. Abrams   \n",
       "4                     Furious 7          2015    9.335014         James Wan   \n",
       "\n",
       "   runtime  vote_average    Profit_1    Profit_2  \n",
       "0      124           6.5  1363528810  1363528810  \n",
       "1      120           7.1   228436354   228436354  \n",
       "2      119           6.3   185238201   185238201  \n",
       "3      136           7.5  1868178225  1868178225  \n",
       "4      137           7.3  1316249360  1316249360  "
      ]
     },
     "execution_count": 54,
     "metadata": {},
     "output_type": "execute_result"
    }
   ],
   "source": [
    "df_men_director=df_profit.loc[df_profit['keywords'] !='woman director']\n",
    "df_men_director.to_csv (r'C:\\Users\\Abdelrazek\\Downloads\\investigate-tmdb-movies-dataset\\men_director.csv', index = False, header=True)\n",
    "df_men_director = pd.read_csv('men_director.csv')\n",
    "df_men_director.drop(['keywords'], axis=1, inplace=True)\n",
    "df_men_director.head()"
   ]
  },
  {
   "cell_type": "code",
   "execution_count": 55,
   "metadata": {},
   "outputs": [
    {
     "data": {
      "text/plain": [
       "(10732, 8)"
      ]
     },
     "execution_count": 55,
     "metadata": {},
     "output_type": "execute_result"
    }
   ],
   "source": [
    "df_men_director.shape"
   ]
  },
  {
   "cell_type": "code",
   "execution_count": 56,
   "metadata": {},
   "outputs": [
    {
     "data": {
      "text/html": [
       "<div>\n",
       "<style scoped>\n",
       "    .dataframe tbody tr th:only-of-type {\n",
       "        vertical-align: middle;\n",
       "    }\n",
       "\n",
       "    .dataframe tbody tr th {\n",
       "        vertical-align: top;\n",
       "    }\n",
       "\n",
       "    .dataframe thead th {\n",
       "        text-align: right;\n",
       "    }\n",
       "</style>\n",
       "<table border=\"1\" class=\"dataframe\">\n",
       "  <thead>\n",
       "    <tr style=\"text-align: right;\">\n",
       "      <th></th>\n",
       "      <th>release_year</th>\n",
       "      <th>popularity</th>\n",
       "      <th>runtime</th>\n",
       "      <th>vote_average</th>\n",
       "      <th>Profit_1</th>\n",
       "      <th>Profit_2</th>\n",
       "    </tr>\n",
       "  </thead>\n",
       "  <tbody>\n",
       "    <tr>\n",
       "      <th>count</th>\n",
       "      <td>10732.000000</td>\n",
       "      <td>10732.000000</td>\n",
       "      <td>10732.000000</td>\n",
       "      <td>10732.000000</td>\n",
       "      <td>1.073200e+04</td>\n",
       "      <td>1.073200e+04</td>\n",
       "    </tr>\n",
       "    <tr>\n",
       "      <th>mean</th>\n",
       "      <td>2001.220183</td>\n",
       "      <td>0.651224</td>\n",
       "      <td>102.074264</td>\n",
       "      <td>5.975429</td>\n",
       "      <td>2.551250e+07</td>\n",
       "      <td>3.979141e+07</td>\n",
       "    </tr>\n",
       "    <tr>\n",
       "      <th>std</th>\n",
       "      <td>12.837888</td>\n",
       "      <td>1.005236</td>\n",
       "      <td>31.187195</td>\n",
       "      <td>0.935557</td>\n",
       "      <td>9.714634e+07</td>\n",
       "      <td>9.394843e+07</td>\n",
       "    </tr>\n",
       "    <tr>\n",
       "      <th>min</th>\n",
       "      <td>1960.000000</td>\n",
       "      <td>0.000065</td>\n",
       "      <td>0.000000</td>\n",
       "      <td>1.500000</td>\n",
       "      <td>-4.139124e+08</td>\n",
       "      <td>-4.139124e+08</td>\n",
       "    </tr>\n",
       "    <tr>\n",
       "      <th>25%</th>\n",
       "      <td>1994.000000</td>\n",
       "      <td>0.209112</td>\n",
       "      <td>90.000000</td>\n",
       "      <td>5.400000</td>\n",
       "      <td>0.000000e+00</td>\n",
       "      <td>1.382332e+07</td>\n",
       "    </tr>\n",
       "    <tr>\n",
       "      <th>50%</th>\n",
       "      <td>2006.000000</td>\n",
       "      <td>0.386049</td>\n",
       "      <td>99.000000</td>\n",
       "      <td>6.000000</td>\n",
       "      <td>0.000000e+00</td>\n",
       "      <td>2.519762e+07</td>\n",
       "    </tr>\n",
       "    <tr>\n",
       "      <th>75%</th>\n",
       "      <td>2011.000000</td>\n",
       "      <td>0.719615</td>\n",
       "      <td>112.000000</td>\n",
       "      <td>6.600000</td>\n",
       "      <td>9.866447e+06</td>\n",
       "      <td>2.882332e+07</td>\n",
       "    </tr>\n",
       "    <tr>\n",
       "      <th>max</th>\n",
       "      <td>2015.000000</td>\n",
       "      <td>32.985763</td>\n",
       "      <td>900.000000</td>\n",
       "      <td>9.200000</td>\n",
       "      <td>2.544506e+09</td>\n",
       "      <td>2.544506e+09</td>\n",
       "    </tr>\n",
       "  </tbody>\n",
       "</table>\n",
       "</div>"
      ],
      "text/plain": [
       "       release_year    popularity       runtime  vote_average      Profit_1  \\\n",
       "count  10732.000000  10732.000000  10732.000000  10732.000000  1.073200e+04   \n",
       "mean    2001.220183      0.651224    102.074264      5.975429  2.551250e+07   \n",
       "std       12.837888      1.005236     31.187195      0.935557  9.714634e+07   \n",
       "min     1960.000000      0.000065      0.000000      1.500000 -4.139124e+08   \n",
       "25%     1994.000000      0.209112     90.000000      5.400000  0.000000e+00   \n",
       "50%     2006.000000      0.386049     99.000000      6.000000  0.000000e+00   \n",
       "75%     2011.000000      0.719615    112.000000      6.600000  9.866447e+06   \n",
       "max     2015.000000     32.985763    900.000000      9.200000  2.544506e+09   \n",
       "\n",
       "           Profit_2  \n",
       "count  1.073200e+04  \n",
       "mean   3.979141e+07  \n",
       "std    9.394843e+07  \n",
       "min   -4.139124e+08  \n",
       "25%    1.382332e+07  \n",
       "50%    2.519762e+07  \n",
       "75%    2.882332e+07  \n",
       "max    2.544506e+09  "
      ]
     },
     "execution_count": 56,
     "metadata": {},
     "output_type": "execute_result"
    }
   ],
   "source": [
    "df_men_director.describe()"
   ]
  },
  {
   "cell_type": "markdown",
   "metadata": {},
   "source": [
    "<a id='EDA'></a>\n",
    "\n",
    "# Exploratory Data Analysis\n",
    "\n",
    "> **Tip**: Now that you've trimmed and cleaned your data, you're ready to move on to exploration. Compute statistics and create visualizations with the goal of addressing the research questions that you posed in the Introduction section. It is recommended that you be systematic with your approach. Look at one variable at a time, and then follow it up by looking at relationships between variables."
   ]
  },
  {
   "cell_type": "markdown",
   "metadata": {},
   "source": [
    "### Explore what the histogram of the data looks like"
   ]
  },
  {
   "cell_type": "markdown",
   "metadata": {},
   "source": [
    "#### Explore Men_Director"
   ]
  },
  {
   "cell_type": "code",
   "execution_count": 57,
   "metadata": {},
   "outputs": [
    {
     "data": {
      "image/png": "[encoded data removed]",
      "text/plain": [
       "<Figure size 1440x720 with 6 Axes>"
      ]
     },
     "metadata": {
      "needs_background": "light"
     },
     "output_type": "display_data"
    }
   ],
   "source": [
    "df_men_director.hist(figsize=(20,10));"
   ]
  },
  {
   "cell_type": "markdown",
   "metadata": {},
   "source": [
    "**. we can notice that the profit for movies director with men dos not change after adding mean value**"
   ]
  },
  {
   "cell_type": "code",
   "execution_count": 58,
   "metadata": {},
   "outputs": [
    {
     "data": {
      "image/png": "[encoded data removed]",
      "text/plain": [
       "<Figure size 1365x735 with 1 Axes>"
      ]
     },
     "metadata": {
      "needs_background": "light"
     },
     "output_type": "display_data"
    }
   ],
   "source": [
    "# shoe men_average_films_runtime\n",
    "plt.figure(figsize=(13,7), dpi = 105)\n",
    "sns.set_theme(style=\"whitegrid\")\n",
    "men_average_films_runtime=df_men_director ['runtime']\n",
    "ax =sns.boxplot(data=men_average_films_runtime, linewidth = 1,color='dodgerblue')\n",
    "plt.show()"
   ]
  },
  {
   "cell_type": "markdown",
   "metadata": {},
   "source": [
    "#### Explore Woman_Director"
   ]
  },
  {
   "cell_type": "code",
   "execution_count": 59,
   "metadata": {},
   "outputs": [
    {
     "data": {
      "image/png": "[encoded data removed]",
      "text/plain": [
       "<Figure size 1440x720 with 6 Axes>"
      ]
     },
     "metadata": {},
     "output_type": "display_data"
    }
   ],
   "source": [
    "df_woman_director.hist(figsize=(20,10));"
   ]
  },
  {
   "cell_type": "code",
   "execution_count": 60,
   "metadata": {},
   "outputs": [
    {
     "data": {
      "image/png": "[encoded data removed]",
      "text/plain": [
       "<Figure size 1365x735 with 1 Axes>"
      ]
     },
     "metadata": {},
     "output_type": "display_data"
    }
   ],
   "source": [
    "# shoe woman_average_films_runtime\n",
    "plt.figure(figsize=(13,7), dpi = 105)\n",
    "sns.set_theme(style=\"whitegrid\")\n",
    "woman_average_films_runtime=df_woman_director ['runtime']\n",
    "ax =sns.boxplot(data=woman_average_films_runtime, linewidth = 1,color='dodgerblue')\n",
    "plt.show()"
   ]
  },
  {
   "cell_type": "markdown",
   "metadata": {},
   "source": [
    "**1. we can notice that woman start director films to be notice more than 15 year after 2000**\n",
    "\n",
    "**2. women like to directer short film and a little make long film**\n",
    "\n",
    "**3. men like to directer films between 120 and 180 min and many make long films**\n",
    "\n",
    "**4. men directer Data Frame profit before add mean equal to profit after mean**\n",
    "\n",
    "**5. women directer Data Frame profit before add mean not equal to profit after mean and that related to the multi missing value**\n"
   ]
  },
  {
   "cell_type": "markdown",
   "metadata": {},
   "source": [
    "### Research Question 1 \n",
    "\n",
    "##### What is the relationship between runtime and profit?"
   ]
  },
  {
   "cell_type": "code",
   "execution_count": 61,
   "metadata": {
    "scrolled": false
   },
   "outputs": [
    {
     "data": {
      "image/png": "[encoded data removed]",
      "text/plain": [
       "<Figure size 1080x720 with 1 Axes>"
      ]
     },
     "metadata": {},
     "output_type": "display_data"
    }
   ],
   "source": [
    "# Plot scatter plot of Profit_2 and runtime \n",
    "df.plot(x='Profit_2', y='runtime', kind='scatter', figsize=(15,10),color='dodgerblue')\n",
    "plt.title('profit vs. runtime')\n",
    "plt.xlabel('profit_2')\n",
    "plt.ylabel('runtime');\n",
    "plt.show()"
   ]
  },
  {
   "cell_type": "markdown",
   "metadata": {},
   "source": [
    "**. most films runtime between 100 min to 200 min make profit 0 and o.5 million $**"
   ]
  },
  {
   "cell_type": "markdown",
   "metadata": {},
   "source": [
    "#### show The average runtime of a movie"
   ]
  },
  {
   "cell_type": "code",
   "execution_count": 62,
   "metadata": {},
   "outputs": [
    {
     "data": {
      "image/png": "[encoded data removed]",
      "text/plain": [
       "<Figure size 1365x735 with 1 Axes>"
      ]
     },
     "metadata": {},
     "output_type": "display_data"
    }
   ],
   "source": [
    "#using seaborn to generate the The average runtime of a movie\n",
    "\n",
    "plt.figure(figsize=(13,7), dpi = 105)\n",
    "sns.set_theme(style=\"whitegrid\")\n",
    "average_runtime=df_profit ['runtime']\n",
    "ax =sns.boxplot(data=average_runtime, linewidth = 1,color='dodgerblue')\n",
    "plt.show()"
   ]
  },
  {
   "cell_type": "markdown",
   "metadata": {},
   "source": [
    "### Research Question 2 \n",
    "\n",
    "#### what Movies with most and least profit?"
   ]
  },
  {
   "cell_type": "code",
   "execution_count": 63,
   "metadata": {},
   "outputs": [
    {
     "name": "stdout",
     "output_type": "stream",
     "text": [
      "|      | original_title               |   release_year |   popularity | director        | keywords                                            |   runtime |   vote_average |   Profit_1 |   Profit_2 |\n",
      "|-----:|:-----------------------------|---------------:|-------------:|:----------------|:----------------------------------------------------|----------:|---------------:|-----------:|-----------:|\n",
      "| 1386 | Avatar                       |           2009 |      9.43277 | James Cameron   | culture clash|future|space war|space colony|society |       162 |            7.1 | 2544505847 | 2544505847 |\n",
      "|    3 | Star Wars: The Force Awakens |           2015 |     11.1731  | J.J. Abrams     | android|spaceship|jedi|space opera|3d               |       136 |            7.5 | 1868178225 | 1868178225 |\n",
      "| 5231 | Titanic                      |           1997 |      4.35522 | James Cameron   | shipwreck|iceberg|ship|panic|titanic                |       194 |            7.3 | 1645034188 | 1645034188 |\n",
      "|    0 | Jurassic World               |           2015 |     32.9858  | Colin Trevorrow | monster|dna|tyrannosaurus rex|velociraptor|island   |       124 |            6.5 | 1363528810 | 1363528810 |\n",
      "|    4 | Furious 7                    |           2015 |      9.33501 | James Wan       | car race|speed|revenge|suspense|car                 |       137 |            7.3 | 1316249360 | 1316249360 |\n"
     ]
    }
   ],
   "source": [
    "# Movies_best_profit_info\n",
    "df_Movies_best_profit=df_profit.sort_values(['Profit_2', 'original_title'], ascending=[False, True])\n",
    "print(df_Movies_best_profit.head(5).to_markdown())"
   ]
  },
  {
   "cell_type": "code",
   "execution_count": 64,
   "metadata": {},
   "outputs": [
    {
     "name": "stdout",
     "output_type": "stream",
     "text": [
      "|      | original_title    |   release_year |   popularity | director         | keywords                                                         |   runtime |   vote_average |   Profit_1 |   Profit_2 |\n",
      "|-----:|:------------------|---------------:|-------------:|:-----------------|:-----------------------------------------------------------------|----------:|---------------:|-----------:|-----------:|\n",
      "| 2069 | The Wolfman       |           2010 |     0.642475 | Joe Johnston     | father-son relationship|victorian england|rural setting|werewolf |       102 |            5.4 | -150000000 | -110176681 |\n",
      "| 3484 | Mars Needs Moms   |           2011 |     0.921653 | Simon Wells      | boy|alien|rescue|martian|alien abduction                         |        88 |            5.5 | -111007242 | -111007242 |\n",
      "| 7031 | The Alamo         |           2004 |     0.94856  | John Lee Hancock | texas|officer|uprising|alamo|mexican                             |       137 |            5.9 | -119180039 | -119180039 |\n",
      "| 5508 | The Lone Ranger   |           2013 |     1.21451  | Gore Verbinski   | texas|horse|survivor|texas ranger|partner                        |       149 |            6   | -165710090 | -165710090 |\n",
      "| 2244 | The Warrior's Way |           2010 |     0.25054  | Sngmoo Lee       | assassin|small town|revenge|deception|super speed                |       100 |            6.4 | -413912431 | -413912431 |\n"
     ]
    }
   ],
   "source": [
    "# Movies_Least_profit_info\n",
    "df_Movies_Least_profit=df_profit.sort_values(['Profit_2', 'original_title'], ascending=[False, True])\n",
    "print(df_Movies_Least_profit.tail(5).to_markdown())"
   ]
  },
  {
   "cell_type": "code",
   "execution_count": 65,
   "metadata": {},
   "outputs": [
    {
     "name": "stdout",
     "output_type": "stream",
     "text": [
      "|      | original_title   |   release_year |   popularity | director      |   runtime |   vote_average |   Profit_1 |   Profit_2 |\n",
      "|-----:|:-----------------|---------------:|-------------:|:--------------|----------:|---------------:|-----------:|-----------:|\n",
      "| 1358 | Avatar           |           2009 |      9.43277 | James Cameron |       162 |            7.1 | 2544505847 | 2544505847 |\n"
     ]
    }
   ],
   "source": [
    "# men_director_Movies_best_profit_info\n",
    "df_men_director_best_profit=df_men_director.sort_values(['Profit_2', 'original_title'], ascending=[False, True])\n",
    "print(df_men_director_best_profit.head(1).to_markdown())"
   ]
  },
  {
   "cell_type": "markdown",
   "metadata": {},
   "source": [
    "#### Avatar is the most profit in men_director_Movies"
   ]
  },
  {
   "cell_type": "code",
   "execution_count": 66,
   "metadata": {},
   "outputs": [
    {
     "name": "stdout",
     "output_type": "stream",
     "text": [
      "|      | original_title    |   release_year |   popularity | director   |   runtime |   vote_average |   Profit_1 |   Profit_2 |\n",
      "|-----:|:------------------|---------------:|-------------:|:-----------|----------:|---------------:|-----------:|-----------:|\n",
      "| 2204 | The Warrior's Way |           2010 |      0.25054 | Sngmoo Lee |       100 |            6.4 | -413912431 | -413912431 |\n"
     ]
    }
   ],
   "source": [
    "# men_directort_Movies_Least_profit_info\n",
    "df_men_director_Least_profit=df_men_director.sort_values(['Profit_2', 'original_title'], ascending=[False, True])\n",
    "print(df_men_director_Least_profit.tail(1).to_markdown())"
   ]
  },
  {
   "cell_type": "markdown",
   "metadata": {},
   "source": [
    "#### The Warrior's Way is the Least profit in men_director_Movies"
   ]
  },
  {
   "cell_type": "code",
   "execution_count": 67,
   "metadata": {},
   "outputs": [
    {
     "data": {
      "text/html": [
       "<table border=\"1\" class=\"dataframe table table-striped\">\n",
       "  <thead>\n",
       "    <tr style=\"text-align: right;\">\n",
       "      <th></th>\n",
       "      <th>original_title</th>\n",
       "      <th>release_year</th>\n",
       "      <th>popularity</th>\n",
       "      <th>director</th>\n",
       "      <th>runtime</th>\n",
       "      <th>vote_average</th>\n",
       "      <th>Profit_1</th>\n",
       "      <th>Profit_2</th>\n",
       "    </tr>\n",
       "  </thead>\n",
       "  <tbody>\n",
       "    <tr>\n",
       "      <th>45</th>\n",
       "      <td>The Secret Life of Bees</td>\n",
       "      <td>2008</td>\n",
       "      <td>0.595488</td>\n",
       "      <td>Gina Prince-Bythewood</td>\n",
       "      <td>114</td>\n",
       "      <td>7.2</td>\n",
       "      <td>27105395</td>\n",
       "      <td>27105395</td>\n",
       "    </tr>\n",
       "  </tbody>\n",
       "</table>"
      ],
      "text/plain": [
       "<IPython.core.display.HTML object>"
      ]
     },
     "execution_count": 67,
     "metadata": {},
     "output_type": "execute_result"
    }
   ],
   "source": [
    "# woman_director_Movies_best_profit_info\n",
    "df_woman_director_best_profit=df_woman_director.sort_values(['Profit_1', 'original_title'], ascending=[False, True])\n",
    "HTML(df_woman_director_best_profit.head(1).to_html(classes='table table-striped'))"
   ]
  },
  {
   "cell_type": "markdown",
   "metadata": {},
   "source": [
    "#### The Secret Life of Bees is the most profit in woman_director_Movies"
   ]
  },
  {
   "cell_type": "code",
   "execution_count": 68,
   "metadata": {},
   "outputs": [
    {
     "data": {
      "text/html": [
       "<table border=\"1\" class=\"dataframe table table-striped\">\n",
       "  <thead>\n",
       "    <tr style=\"text-align: right;\">\n",
       "      <th></th>\n",
       "      <th>original_title</th>\n",
       "      <th>release_year</th>\n",
       "      <th>popularity</th>\n",
       "      <th>director</th>\n",
       "      <th>runtime</th>\n",
       "      <th>vote_average</th>\n",
       "      <th>Profit_1</th>\n",
       "      <th>Profit_2</th>\n",
       "    </tr>\n",
       "  </thead>\n",
       "  <tbody>\n",
       "    <tr>\n",
       "      <th>36</th>\n",
       "      <td>La Rafle</td>\n",
       "      <td>2010</td>\n",
       "      <td>0.876654</td>\n",
       "      <td>Roselyne Bosch</td>\n",
       "      <td>115</td>\n",
       "      <td>7.3</td>\n",
       "      <td>-20000000</td>\n",
       "      <td>19823319</td>\n",
       "    </tr>\n",
       "  </tbody>\n",
       "</table>"
      ],
      "text/plain": [
       "<IPython.core.display.HTML object>"
      ]
     },
     "execution_count": 68,
     "metadata": {},
     "output_type": "execute_result"
    }
   ],
   "source": [
    "# woman_director_Movies_Least_profit_info\n",
    "df_woman_director_least_profit=df_woman_director.sort_values(['Profit_1', 'original_title'], ascending=[False, True])\n",
    "HTML(df_woman_director_least_profit.tail(1).to_html(classes='table table-striped'))"
   ]
  },
  {
   "cell_type": "code",
   "execution_count": 69,
   "metadata": {},
   "outputs": [
    {
     "data": {
      "text/html": [
       "<table border=\"1\" class=\"dataframe table table-striped\">\n",
       "  <thead>\n",
       "    <tr style=\"text-align: right;\">\n",
       "      <th></th>\n",
       "      <th>original_title</th>\n",
       "      <th>release_year</th>\n",
       "      <th>popularity</th>\n",
       "      <th>director</th>\n",
       "      <th>runtime</th>\n",
       "      <th>vote_average</th>\n",
       "      <th>Profit_1</th>\n",
       "      <th>Profit_2</th>\n",
       "    </tr>\n",
       "  </thead>\n",
       "  <tbody>\n",
       "    <tr>\n",
       "      <th>79</th>\n",
       "      <td>A Case of You</td>\n",
       "      <td>2013</td>\n",
       "      <td>0.433434</td>\n",
       "      <td>Kat Coiro</td>\n",
       "      <td>91</td>\n",
       "      <td>5.3</td>\n",
       "      <td>4187</td>\n",
       "      <td>-14621514</td>\n",
       "    </tr>\n",
       "  </tbody>\n",
       "</table>"
      ],
      "text/plain": [
       "<IPython.core.display.HTML object>"
      ]
     },
     "execution_count": 69,
     "metadata": {},
     "output_type": "execute_result"
    }
   ],
   "source": [
    "# woman_director_Movies_Least_profit_info\n",
    "df_woman_director_least_profit=df_woman_director.sort_values(['Profit_2', 'original_title'], ascending=[False, True])\n",
    "HTML(df_woman_director_least_profit.tail(1).to_html(classes='table table-striped'))"
   ]
  },
  {
   "cell_type": "markdown",
   "metadata": {},
   "source": [
    "**as we mention before about missing data for  women_directer**\n",
    "\n",
    "**we can see that woman_director_Movies_Least_profit has two different result**\n",
    "\n",
    "**1. A Case of You will be the Least_profit Movies if we using col Profit_2 after adding the mean value to our missing data**\n",
    "\n",
    "**2. La Rafle will be the Least_profit Movies if we using col Profit_1 before adding the mean value to our missing data**"
   ]
  },
  {
   "cell_type": "markdown",
   "metadata": {},
   "source": [
    "#### using the static summary of men and women Data Frame and create anew one where release_year' >= 1975 the year of min in woman_director_Movies"
   ]
  },
  {
   "cell_type": "markdown",
   "metadata": {},
   "source": [
    "### Research Question 3\n",
    "\n",
    "#### what is the Movies with most and least popularity?"
   ]
  },
  {
   "cell_type": "code",
   "execution_count": 70,
   "metadata": {},
   "outputs": [
    {
     "data": {
      "text/html": [
       "<table border=\"1\" class=\"dataframe table table-striped\">\n",
       "  <thead>\n",
       "    <tr style=\"text-align: right;\">\n",
       "      <th></th>\n",
       "      <th>original_title</th>\n",
       "      <th>release_year</th>\n",
       "      <th>popularity</th>\n",
       "      <th>director</th>\n",
       "      <th>keywords</th>\n",
       "      <th>runtime</th>\n",
       "      <th>vote_average</th>\n",
       "      <th>Profit_1</th>\n",
       "      <th>Profit_2</th>\n",
       "    </tr>\n",
       "  </thead>\n",
       "  <tbody>\n",
       "    <tr>\n",
       "      <th>0</th>\n",
       "      <td>Jurassic World</td>\n",
       "      <td>2015</td>\n",
       "      <td>32.985763</td>\n",
       "      <td>Colin Trevorrow</td>\n",
       "      <td>monster|dna|tyrannosaurus rex|velociraptor|island</td>\n",
       "      <td>124</td>\n",
       "      <td>6.5</td>\n",
       "      <td>1363528810</td>\n",
       "      <td>1363528810</td>\n",
       "    </tr>\n",
       "  </tbody>\n",
       "</table>"
      ],
      "text/plain": [
       "<IPython.core.display.HTML object>"
      ]
     },
     "execution_count": 70,
     "metadata": {},
     "output_type": "execute_result"
    }
   ],
   "source": [
    "# Movies with most popularity\n",
    "df_profit.sort_values(['popularity', 'original_title'], ascending=[False, True])\n",
    "HTML(df_profit.head(1).to_html(classes='table table-striped'))"
   ]
  },
  {
   "cell_type": "code",
   "execution_count": 71,
   "metadata": {},
   "outputs": [
    {
     "data": {
      "text/html": [
       "<table border=\"1\" class=\"dataframe table table-striped\">\n",
       "  <thead>\n",
       "    <tr style=\"text-align: right;\">\n",
       "      <th></th>\n",
       "      <th>original_title</th>\n",
       "      <th>release_year</th>\n",
       "      <th>popularity</th>\n",
       "      <th>director</th>\n",
       "      <th>keywords</th>\n",
       "      <th>runtime</th>\n",
       "      <th>vote_average</th>\n",
       "      <th>Profit_1</th>\n",
       "      <th>Profit_2</th>\n",
       "    </tr>\n",
       "  </thead>\n",
       "  <tbody>\n",
       "    <tr>\n",
       "      <th>10865</th>\n",
       "      <td>Manos: The Hands of Fate</td>\n",
       "      <td>1966</td>\n",
       "      <td>0.035919</td>\n",
       "      <td>Harold P. Warren</td>\n",
       "      <td>fire|gun|drive|sacrifice|flashlight</td>\n",
       "      <td>74</td>\n",
       "      <td>1.5</td>\n",
       "      <td>-19000</td>\n",
       "      <td>39804319</td>\n",
       "    </tr>\n",
       "  </tbody>\n",
       "</table>"
      ],
      "text/plain": [
       "<IPython.core.display.HTML object>"
      ]
     },
     "execution_count": 71,
     "metadata": {},
     "output_type": "execute_result"
    }
   ],
   "source": [
    "# Movies with least popularity\n",
    "df_profit.sort_values(['popularity', 'original_title'], ascending=[False, True])\n",
    "HTML(df_profit.tail(1).to_html(classes='table table-striped'))"
   ]
  },
  {
   "cell_type": "markdown",
   "metadata": {},
   "source": [
    "### Research Question 4\n",
    "\n",
    "#### what is the top 10 director with most production ?"
   ]
  },
  {
   "cell_type": "code",
   "execution_count": 72,
   "metadata": {},
   "outputs": [
    {
     "data": {
      "text/plain": [
       "Woody Allen          45\n",
       "Clint Eastwood       34\n",
       "Martin Scorsese      29\n",
       "Steven Spielberg     29\n",
       "Ridley Scott         23\n",
       "Steven Soderbergh    22\n",
       "Ron Howard           22\n",
       "Joel Schumacher      21\n",
       "Brian De Palma       20\n",
       "Wes Craven           19\n",
       "Name: director, dtype: int64"
      ]
     },
     "execution_count": 72,
     "metadata": {},
     "output_type": "execute_result"
    }
   ],
   "source": [
    "# top_10_director_movies_production\n",
    "df_profit.director.value_counts().head(10)"
   ]
  },
  {
   "cell_type": "markdown",
   "metadata": {},
   "source": [
    "### Research Question 5\n",
    "\n",
    "#### which director gain most and least profit all the time?"
   ]
  },
  {
   "cell_type": "code",
   "execution_count": 73,
   "metadata": {},
   "outputs": [],
   "source": [
    "# director_Profit_ALL THE TIME\n",
    "director_Profit=df_profit.groupby(['director'])['Profit_1'].sum().reset_index()\n",
    "m=director_Profit.sort_values(by='Profit_1',ascending=True,)"
   ]
  },
  {
   "cell_type": "code",
   "execution_count": 74,
   "metadata": {},
   "outputs": [
    {
     "data": {
      "text/html": [
       "<table border=\"1\" class=\"dataframe table table-striped\">\n",
       "  <thead>\n",
       "    <tr style=\"text-align: right;\">\n",
       "      <th></th>\n",
       "      <th>director</th>\n",
       "      <th>Profit_1</th>\n",
       "    </tr>\n",
       "  </thead>\n",
       "  <tbody>\n",
       "    <tr>\n",
       "      <th>4601</th>\n",
       "      <td>Steven Spielberg</td>\n",
       "      <td>7428613772</td>\n",
       "    </tr>\n",
       "  </tbody>\n",
       "</table>"
      ],
      "text/plain": [
       "<IPython.core.display.HTML object>"
      ]
     },
     "execution_count": 74,
     "metadata": {},
     "output_type": "execute_result"
    }
   ],
   "source": [
    "# Top_director_Profit\n",
    "HTML(m.tail(1).to_html(classes='table table-striped'))"
   ]
  },
  {
   "cell_type": "code",
   "execution_count": 75,
   "metadata": {
    "scrolled": true
   },
   "outputs": [
    {
     "data": {
      "text/html": [
       "<table border=\"1\" class=\"dataframe table table-striped\">\n",
       "  <thead>\n",
       "    <tr style=\"text-align: right;\">\n",
       "      <th></th>\n",
       "      <th>director</th>\n",
       "      <th>Profit_1</th>\n",
       "    </tr>\n",
       "  </thead>\n",
       "  <tbody>\n",
       "    <tr>\n",
       "      <th>4476</th>\n",
       "      <td>Sngmoo Lee</td>\n",
       "      <td>-413912431</td>\n",
       "    </tr>\n",
       "  </tbody>\n",
       "</table>"
      ],
      "text/plain": [
       "<IPython.core.display.HTML object>"
      ]
     },
     "execution_count": 75,
     "metadata": {},
     "output_type": "execute_result"
    }
   ],
   "source": [
    "# least_director_Profit\n",
    "HTML(m.head(1).to_html(classes='table table-striped'))"
   ]
  },
  {
   "cell_type": "code",
   "execution_count": 76,
   "metadata": {
    "scrolled": false
   },
   "outputs": [
    {
     "data": {
      "text/html": [
       "<div>\n",
       "<style scoped>\n",
       "    .dataframe tbody tr th:only-of-type {\n",
       "        vertical-align: middle;\n",
       "    }\n",
       "\n",
       "    .dataframe tbody tr th {\n",
       "        vertical-align: top;\n",
       "    }\n",
       "\n",
       "    .dataframe thead th {\n",
       "        text-align: right;\n",
       "    }\n",
       "</style>\n",
       "<table border=\"1\" class=\"dataframe\">\n",
       "  <thead>\n",
       "    <tr style=\"text-align: right;\">\n",
       "      <th></th>\n",
       "      <th>original_title</th>\n",
       "      <th>release_year</th>\n",
       "      <th>popularity</th>\n",
       "      <th>director</th>\n",
       "      <th>keywords</th>\n",
       "      <th>runtime</th>\n",
       "      <th>vote_average</th>\n",
       "      <th>Profit_1</th>\n",
       "      <th>Profit_2</th>\n",
       "    </tr>\n",
       "  </thead>\n",
       "  <tbody>\n",
       "    <tr>\n",
       "      <th>33</th>\n",
       "      <td>Bridge of Spies</td>\n",
       "      <td>2015</td>\n",
       "      <td>3.648210</td>\n",
       "      <td>Steven Spielberg</td>\n",
       "      <td>spy|cia|cold war|pilot|lawyer</td>\n",
       "      <td>141</td>\n",
       "      <td>7.1</td>\n",
       "      <td>122610473</td>\n",
       "      <td>122610473</td>\n",
       "    </tr>\n",
       "    <tr>\n",
       "      <th>4425</th>\n",
       "      <td>Lincoln</td>\n",
       "      <td>2012</td>\n",
       "      <td>1.312488</td>\n",
       "      <td>Steven Spielberg</td>\n",
       "      <td>u.s. president|speech|death of a child|battlef...</td>\n",
       "      <td>149</td>\n",
       "      <td>6.6</td>\n",
       "      <td>210293450</td>\n",
       "      <td>210293450</td>\n",
       "    </tr>\n",
       "    <tr>\n",
       "      <th>3397</th>\n",
       "      <td>The Adventures of Tintin</td>\n",
       "      <td>2011</td>\n",
       "      <td>2.234300</td>\n",
       "      <td>Steven Spielberg</td>\n",
       "      <td>riddle|captain|treasure|liquor|treasure hunt</td>\n",
       "      <td>107</td>\n",
       "      <td>6.6</td>\n",
       "      <td>241940071</td>\n",
       "      <td>241940071</td>\n",
       "    </tr>\n",
       "    <tr>\n",
       "      <th>3414</th>\n",
       "      <td>War Horse</td>\n",
       "      <td>2011</td>\n",
       "      <td>1.592819</td>\n",
       "      <td>Steven Spielberg</td>\n",
       "      <td>world war i|horse|farm life|execution|trapped</td>\n",
       "      <td>146</td>\n",
       "      <td>6.9</td>\n",
       "      <td>111584879</td>\n",
       "      <td>111584879</td>\n",
       "    </tr>\n",
       "    <tr>\n",
       "      <th>2879</th>\n",
       "      <td>Indiana Jones and the Kingdom of the Crystal S...</td>\n",
       "      <td>2008</td>\n",
       "      <td>3.161670</td>\n",
       "      <td>Steven Spielberg</td>\n",
       "      <td>saving the world|riddle|whip|treasure|mexico city</td>\n",
       "      <td>122</td>\n",
       "      <td>5.6</td>\n",
       "      <td>601636033</td>\n",
       "      <td>601636033</td>\n",
       "    </tr>\n",
       "    <tr>\n",
       "      <th>6205</th>\n",
       "      <td>War of the Worlds</td>\n",
       "      <td>2005</td>\n",
       "      <td>1.844731</td>\n",
       "      <td>Steven Spielberg</td>\n",
       "      <td>post traumatic stress  disorder|new jersey|air...</td>\n",
       "      <td>116</td>\n",
       "      <td>5.9</td>\n",
       "      <td>459739379</td>\n",
       "      <td>459739379</td>\n",
       "    </tr>\n",
       "    <tr>\n",
       "      <th>6265</th>\n",
       "      <td>Munich</td>\n",
       "      <td>2005</td>\n",
       "      <td>0.869394</td>\n",
       "      <td>Steven Spielberg</td>\n",
       "      <td>paris|assassination|israel|hotel room|1970s</td>\n",
       "      <td>164</td>\n",
       "      <td>6.7</td>\n",
       "      <td>60358911</td>\n",
       "      <td>60358911</td>\n",
       "    </tr>\n",
       "    <tr>\n",
       "      <th>6988</th>\n",
       "      <td>The Terminal</td>\n",
       "      <td>2004</td>\n",
       "      <td>1.682492</td>\n",
       "      <td>Steven Spielberg</td>\n",
       "      <td>new york|airport|marriage proposal|translation...</td>\n",
       "      <td>128</td>\n",
       "      <td>7.0</td>\n",
       "      <td>159417255</td>\n",
       "      <td>159417255</td>\n",
       "    </tr>\n",
       "    <tr>\n",
       "      <th>3918</th>\n",
       "      <td>Catch Me If You Can</td>\n",
       "      <td>2002</td>\n",
       "      <td>2.973115</td>\n",
       "      <td>Steven Spielberg</td>\n",
       "      <td>con man|biography|fbi agent|overhead camera sh...</td>\n",
       "      <td>141</td>\n",
       "      <td>7.6</td>\n",
       "      <td>300114312</td>\n",
       "      <td>300114312</td>\n",
       "    </tr>\n",
       "    <tr>\n",
       "      <th>3921</th>\n",
       "      <td>Minority Report</td>\n",
       "      <td>2002</td>\n",
       "      <td>2.103595</td>\n",
       "      <td>Steven Spielberg</td>\n",
       "      <td>self-fulfilling prophecy|evidence|hologram|dys...</td>\n",
       "      <td>145</td>\n",
       "      <td>6.9</td>\n",
       "      <td>256372926</td>\n",
       "      <td>256372926</td>\n",
       "    </tr>\n",
       "    <tr>\n",
       "      <th>2638</th>\n",
       "      <td>A.I. Artificial Intelligence</td>\n",
       "      <td>2001</td>\n",
       "      <td>2.971372</td>\n",
       "      <td>Steven Spielberg</td>\n",
       "      <td>ocean|artificial intelligence|prophecy|android...</td>\n",
       "      <td>146</td>\n",
       "      <td>6.6</td>\n",
       "      <td>135926552</td>\n",
       "      <td>135926552</td>\n",
       "    </tr>\n",
       "    <tr>\n",
       "      <th>8974</th>\n",
       "      <td>Saving Private Ryan</td>\n",
       "      <td>1998</td>\n",
       "      <td>2.170136</td>\n",
       "      <td>Steven Spielberg</td>\n",
       "      <td>killing|loss of brother|loss of lover|war crim...</td>\n",
       "      <td>169</td>\n",
       "      <td>7.7</td>\n",
       "      <td>411840909</td>\n",
       "      <td>411840909</td>\n",
       "    </tr>\n",
       "    <tr>\n",
       "      <th>5391</th>\n",
       "      <td>The Lost World: Jurassic Park</td>\n",
       "      <td>1997</td>\n",
       "      <td>0.210550</td>\n",
       "      <td>Steven Spielberg</td>\n",
       "      <td>exotic island|dna|paleontology|tyrannosaurus r...</td>\n",
       "      <td>129</td>\n",
       "      <td>6.1</td>\n",
       "      <td>156074524</td>\n",
       "      <td>156074524</td>\n",
       "    </tr>\n",
       "    <tr>\n",
       "      <th>5387</th>\n",
       "      <td>Amistad</td>\n",
       "      <td>1997</td>\n",
       "      <td>0.221360</td>\n",
       "      <td>Steven Spielberg</td>\n",
       "      <td>cuba|mutiny|slavery|sentence|historical figure</td>\n",
       "      <td>155</td>\n",
       "      <td>6.6</td>\n",
       "      <td>38000000</td>\n",
       "      <td>38000000</td>\n",
       "    </tr>\n",
       "    <tr>\n",
       "      <th>10223</th>\n",
       "      <td>Jurassic Park</td>\n",
       "      <td>1993</td>\n",
       "      <td>2.204926</td>\n",
       "      <td>Steven Spielberg</td>\n",
       "      <td>exotic island|dna|paleontology|tyrannosaurus r...</td>\n",
       "      <td>127</td>\n",
       "      <td>7.4</td>\n",
       "      <td>857100000</td>\n",
       "      <td>857100000</td>\n",
       "    </tr>\n",
       "    <tr>\n",
       "      <th>10222</th>\n",
       "      <td>Schindler's List</td>\n",
       "      <td>1993</td>\n",
       "      <td>2.377288</td>\n",
       "      <td>Steven Spielberg</td>\n",
       "      <td>factory|concentration camp|hero|holocaust|worl...</td>\n",
       "      <td>195</td>\n",
       "      <td>8.1</td>\n",
       "      <td>299265768</td>\n",
       "      <td>299265768</td>\n",
       "    </tr>\n",
       "    <tr>\n",
       "      <th>9318</th>\n",
       "      <td>Hook</td>\n",
       "      <td>1991</td>\n",
       "      <td>2.326917</td>\n",
       "      <td>Steven Spielberg</td>\n",
       "      <td>flying|swordplay|sword|peter pan|daughter</td>\n",
       "      <td>144</td>\n",
       "      <td>6.5</td>\n",
       "      <td>230854823</td>\n",
       "      <td>230854823</td>\n",
       "    </tr>\n",
       "    <tr>\n",
       "      <th>9180</th>\n",
       "      <td>Indiana Jones and the Last Crusade</td>\n",
       "      <td>1989</td>\n",
       "      <td>3.536655</td>\n",
       "      <td>Steven Spielberg</td>\n",
       "      <td>saving the world|venice|holy grail|library|riddle</td>\n",
       "      <td>127</td>\n",
       "      <td>7.4</td>\n",
       "      <td>426171806</td>\n",
       "      <td>426171806</td>\n",
       "    </tr>\n",
       "    <tr>\n",
       "      <th>9219</th>\n",
       "      <td>Always</td>\n",
       "      <td>1989</td>\n",
       "      <td>0.494235</td>\n",
       "      <td>Steven Spielberg</td>\n",
       "      <td>firemen|pilot|airplane|ghost|guardian angel</td>\n",
       "      <td>122</td>\n",
       "      <td>5.8</td>\n",
       "      <td>43134790</td>\n",
       "      <td>43134790</td>\n",
       "    </tr>\n",
       "    <tr>\n",
       "      <th>9636</th>\n",
       "      <td>Empire of the Sun</td>\n",
       "      <td>1987</td>\n",
       "      <td>0.460550</td>\n",
       "      <td>Steven Spielberg</td>\n",
       "      <td>japan|stadium|harmonica|bravery|peasant</td>\n",
       "      <td>153</td>\n",
       "      <td>6.9</td>\n",
       "      <td>-38000000</td>\n",
       "      <td>1823319</td>\n",
       "    </tr>\n",
       "    <tr>\n",
       "      <th>6094</th>\n",
       "      <td>The Color Purple</td>\n",
       "      <td>1985</td>\n",
       "      <td>1.012186</td>\n",
       "      <td>Steven Spielberg</td>\n",
       "      <td>prison|africa|southern u.s.|rape|black people</td>\n",
       "      <td>154</td>\n",
       "      <td>7.5</td>\n",
       "      <td>131292009</td>\n",
       "      <td>131292009</td>\n",
       "    </tr>\n",
       "    <tr>\n",
       "      <th>7883</th>\n",
       "      <td>Indiana Jones and the Temple of Doom</td>\n",
       "      <td>1984</td>\n",
       "      <td>2.556799</td>\n",
       "      <td>Steven Spielberg</td>\n",
       "      <td>riddle|treasure|heart|skeleton|treasure hunt</td>\n",
       "      <td>118</td>\n",
       "      <td>6.9</td>\n",
       "      <td>305000000</td>\n",
       "      <td>305000000</td>\n",
       "    </tr>\n",
       "    <tr>\n",
       "      <th>8889</th>\n",
       "      <td>E.T. the Extra-Terrestrial</td>\n",
       "      <td>1982</td>\n",
       "      <td>2.900556</td>\n",
       "      <td>Steven Spielberg</td>\n",
       "      <td>farewell|homesickness|nasa|extraterrestrial te...</td>\n",
       "      <td>115</td>\n",
       "      <td>7.2</td>\n",
       "      <td>782410554</td>\n",
       "      <td>782410554</td>\n",
       "    </tr>\n",
       "    <tr>\n",
       "      <th>8375</th>\n",
       "      <td>Raiders of the Lost Ark</td>\n",
       "      <td>1981</td>\n",
       "      <td>4.578300</td>\n",
       "      <td>Steven Spielberg</td>\n",
       "      <td>saving the world|riddle|nepal|himalaya|cairo</td>\n",
       "      <td>115</td>\n",
       "      <td>7.5</td>\n",
       "      <td>371925971</td>\n",
       "      <td>371925971</td>\n",
       "    </tr>\n",
       "    <tr>\n",
       "      <th>7851</th>\n",
       "      <td>1941</td>\n",
       "      <td>1979</td>\n",
       "      <td>0.387797</td>\n",
       "      <td>Steven Spielberg</td>\n",
       "      <td>submarine|california|world war ii|war ship|pea...</td>\n",
       "      <td>113</td>\n",
       "      <td>5.4</td>\n",
       "      <td>-3244258</td>\n",
       "      <td>-3244258</td>\n",
       "    </tr>\n",
       "    <tr>\n",
       "      <th>1334</th>\n",
       "      <td>Close Encounters of the Third Kind</td>\n",
       "      <td>1977</td>\n",
       "      <td>1.104816</td>\n",
       "      <td>Steven Spielberg</td>\n",
       "      <td>indiana|obsession|extraterrestrial technology|...</td>\n",
       "      <td>135</td>\n",
       "      <td>7.0</td>\n",
       "      <td>283788635</td>\n",
       "      <td>283788635</td>\n",
       "    </tr>\n",
       "    <tr>\n",
       "      <th>9806</th>\n",
       "      <td>Jaws</td>\n",
       "      <td>1975</td>\n",
       "      <td>2.563191</td>\n",
       "      <td>Steven Spielberg</td>\n",
       "      <td>fishing|atlantic ocean|bathing|shipwreck|polic...</td>\n",
       "      <td>124</td>\n",
       "      <td>7.3</td>\n",
       "      <td>463654000</td>\n",
       "      <td>463654000</td>\n",
       "    </tr>\n",
       "    <tr>\n",
       "      <th>9770</th>\n",
       "      <td>The Sugarland Express</td>\n",
       "      <td>1974</td>\n",
       "      <td>0.415866</td>\n",
       "      <td>Steven Spielberg</td>\n",
       "      <td>prison|stadium|texas|hostage|adoption</td>\n",
       "      <td>110</td>\n",
       "      <td>6.1</td>\n",
       "      <td>9800000</td>\n",
       "      <td>9800000</td>\n",
       "    </tr>\n",
       "    <tr>\n",
       "      <th>9939</th>\n",
       "      <td>Duel</td>\n",
       "      <td>1971</td>\n",
       "      <td>0.462681</td>\n",
       "      <td>Steven Spielberg</td>\n",
       "      <td>terror|california|falsely accused person|gas s...</td>\n",
       "      <td>90</td>\n",
       "      <td>7.0</td>\n",
       "      <td>-450000</td>\n",
       "      <td>39373319</td>\n",
       "    </tr>\n",
       "  </tbody>\n",
       "</table>\n",
       "</div>"
      ],
      "text/plain": [
       "                                          original_title  release_year  \\\n",
       "33                                       Bridge of Spies          2015   \n",
       "4425                                             Lincoln          2012   \n",
       "3397                            The Adventures of Tintin          2011   \n",
       "3414                                           War Horse          2011   \n",
       "2879   Indiana Jones and the Kingdom of the Crystal S...          2008   \n",
       "6205                                   War of the Worlds          2005   \n",
       "6265                                              Munich          2005   \n",
       "6988                                        The Terminal          2004   \n",
       "3918                                 Catch Me If You Can          2002   \n",
       "3921                                     Minority Report          2002   \n",
       "2638                        A.I. Artificial Intelligence          2001   \n",
       "8974                                 Saving Private Ryan          1998   \n",
       "5391                       The Lost World: Jurassic Park          1997   \n",
       "5387                                             Amistad          1997   \n",
       "10223                                      Jurassic Park          1993   \n",
       "10222                                   Schindler's List          1993   \n",
       "9318                                                Hook          1991   \n",
       "9180                  Indiana Jones and the Last Crusade          1989   \n",
       "9219                                              Always          1989   \n",
       "9636                                   Empire of the Sun          1987   \n",
       "6094                                    The Color Purple          1985   \n",
       "7883                Indiana Jones and the Temple of Doom          1984   \n",
       "8889                          E.T. the Extra-Terrestrial          1982   \n",
       "8375                             Raiders of the Lost Ark          1981   \n",
       "7851                                                1941          1979   \n",
       "1334                  Close Encounters of the Third Kind          1977   \n",
       "9806                                                Jaws          1975   \n",
       "9770                               The Sugarland Express          1974   \n",
       "9939                                                Duel          1971   \n",
       "\n",
       "       popularity          director  \\\n",
       "33       3.648210  Steven Spielberg   \n",
       "4425     1.312488  Steven Spielberg   \n",
       "3397     2.234300  Steven Spielberg   \n",
       "3414     1.592819  Steven Spielberg   \n",
       "2879     3.161670  Steven Spielberg   \n",
       "6205     1.844731  Steven Spielberg   \n",
       "6265     0.869394  Steven Spielberg   \n",
       "6988     1.682492  Steven Spielberg   \n",
       "3918     2.973115  Steven Spielberg   \n",
       "3921     2.103595  Steven Spielberg   \n",
       "2638     2.971372  Steven Spielberg   \n",
       "8974     2.170136  Steven Spielberg   \n",
       "5391     0.210550  Steven Spielberg   \n",
       "5387     0.221360  Steven Spielberg   \n",
       "10223    2.204926  Steven Spielberg   \n",
       "10222    2.377288  Steven Spielberg   \n",
       "9318     2.326917  Steven Spielberg   \n",
       "9180     3.536655  Steven Spielberg   \n",
       "9219     0.494235  Steven Spielberg   \n",
       "9636     0.460550  Steven Spielberg   \n",
       "6094     1.012186  Steven Spielberg   \n",
       "7883     2.556799  Steven Spielberg   \n",
       "8889     2.900556  Steven Spielberg   \n",
       "8375     4.578300  Steven Spielberg   \n",
       "7851     0.387797  Steven Spielberg   \n",
       "1334     1.104816  Steven Spielberg   \n",
       "9806     2.563191  Steven Spielberg   \n",
       "9770     0.415866  Steven Spielberg   \n",
       "9939     0.462681  Steven Spielberg   \n",
       "\n",
       "                                                keywords  runtime  \\\n",
       "33                         spy|cia|cold war|pilot|lawyer      141   \n",
       "4425   u.s. president|speech|death of a child|battlef...      149   \n",
       "3397        riddle|captain|treasure|liquor|treasure hunt      107   \n",
       "3414       world war i|horse|farm life|execution|trapped      146   \n",
       "2879   saving the world|riddle|whip|treasure|mexico city      122   \n",
       "6205   post traumatic stress  disorder|new jersey|air...      116   \n",
       "6265         paris|assassination|israel|hotel room|1970s      164   \n",
       "6988   new york|airport|marriage proposal|translation...      128   \n",
       "3918   con man|biography|fbi agent|overhead camera sh...      141   \n",
       "3921   self-fulfilling prophecy|evidence|hologram|dys...      145   \n",
       "2638   ocean|artificial intelligence|prophecy|android...      146   \n",
       "8974   killing|loss of brother|loss of lover|war crim...      169   \n",
       "5391   exotic island|dna|paleontology|tyrannosaurus r...      129   \n",
       "5387      cuba|mutiny|slavery|sentence|historical figure      155   \n",
       "10223  exotic island|dna|paleontology|tyrannosaurus r...      127   \n",
       "10222  factory|concentration camp|hero|holocaust|worl...      195   \n",
       "9318           flying|swordplay|sword|peter pan|daughter      144   \n",
       "9180   saving the world|venice|holy grail|library|riddle      127   \n",
       "9219         firemen|pilot|airplane|ghost|guardian angel      122   \n",
       "9636             japan|stadium|harmonica|bravery|peasant      153   \n",
       "6094       prison|africa|southern u.s.|rape|black people      154   \n",
       "7883        riddle|treasure|heart|skeleton|treasure hunt      118   \n",
       "8889   farewell|homesickness|nasa|extraterrestrial te...      115   \n",
       "8375        saving the world|riddle|nepal|himalaya|cairo      115   \n",
       "7851   submarine|california|world war ii|war ship|pea...      113   \n",
       "1334   indiana|obsession|extraterrestrial technology|...      135   \n",
       "9806   fishing|atlantic ocean|bathing|shipwreck|polic...      124   \n",
       "9770               prison|stadium|texas|hostage|adoption      110   \n",
       "9939   terror|california|falsely accused person|gas s...       90   \n",
       "\n",
       "       vote_average   Profit_1   Profit_2  \n",
       "33              7.1  122610473  122610473  \n",
       "4425            6.6  210293450  210293450  \n",
       "3397            6.6  241940071  241940071  \n",
       "3414            6.9  111584879  111584879  \n",
       "2879            5.6  601636033  601636033  \n",
       "6205            5.9  459739379  459739379  \n",
       "6265            6.7   60358911   60358911  \n",
       "6988            7.0  159417255  159417255  \n",
       "3918            7.6  300114312  300114312  \n",
       "3921            6.9  256372926  256372926  \n",
       "2638            6.6  135926552  135926552  \n",
       "8974            7.7  411840909  411840909  \n",
       "5391            6.1  156074524  156074524  \n",
       "5387            6.6   38000000   38000000  \n",
       "10223           7.4  857100000  857100000  \n",
       "10222           8.1  299265768  299265768  \n",
       "9318            6.5  230854823  230854823  \n",
       "9180            7.4  426171806  426171806  \n",
       "9219            5.8   43134790   43134790  \n",
       "9636            6.9  -38000000    1823319  \n",
       "6094            7.5  131292009  131292009  \n",
       "7883            6.9  305000000  305000000  \n",
       "8889            7.2  782410554  782410554  \n",
       "8375            7.5  371925971  371925971  \n",
       "7851            5.4   -3244258   -3244258  \n",
       "1334            7.0  283788635  283788635  \n",
       "9806            7.3  463654000  463654000  \n",
       "9770            6.1    9800000    9800000  \n",
       "9939            7.0    -450000   39373319  "
      ]
     },
     "execution_count": 76,
     "metadata": {},
     "output_type": "execute_result"
    }
   ],
   "source": [
    "# explore Steven Spielberg movies \n",
    "director_movies= df_profit.loc[df_profit.director == 'Steven Spielberg']\n",
    "df_top_director_movies=director_movies.sort_values(['release_year', 'Profit_1'], ascending=[False, False])\n",
    "df_top_director_movies"
   ]
  },
  {
   "cell_type": "code",
   "execution_count": 77,
   "metadata": {},
   "outputs": [
    {
     "data": {
      "text/plain": [
       "<Figure size 432x288 with 0 Axes>"
      ]
     },
     "metadata": {},
     "output_type": "display_data"
    },
    {
     "data": {
      "image/png": "[encoded data removed]",
      "text/plain": [
       "<Figure size 432x288 with 1 Axes>"
      ]
     },
     "metadata": {},
     "output_type": "display_data"
    }
   ],
   "source": [
    "# a scatter plot comparing popularity and Profit Steven Spielberg movies\n",
    "plt.figure()\n",
    "df_top_director_movies.plot(kind='scatter',x='Profit_1',y='popularity',color='dodgerblue')\n",
    "plt.show()"
   ]
  },
  {
   "cell_type": "markdown",
   "metadata": {},
   "source": [
    "<a id='conclusions'></a>\n",
    "\n",
    "# Conclusions\n"
   ]
  },
  {
   "cell_type": "markdown",
   "metadata": {},
   "source": [
    "My Research will \n",
    "\n",
    "1.compare and discuss is the production of the movie affected by who is the director of men or woman \n",
    "\n",
    "2.try to found what is the successful director all the time\n",
    "\n",
    "Towards my goal   \n",
    "\n",
    "1.clean and generate df_profit and save as movies-profit.csv\n",
    "2.split df_profit to two Data Frame df_woman_director and df_men_director and save them as men_director.csv and woman_director.csv\n",
    "\n",
    "Reading our analyzing summary \n",
    "\n",
    "woman start director films since 1975  with 143 films and they like to directer short film and a little make long film\n",
    "woman does not present in the Movies best or Least profit list\n",
    "\n",
    "men start director films since 1960 with 10732 films most film run time between 120 and 180 min and some of them make long film \n",
    "men take all places in the  best or Least Movies profit list\n",
    "\n",
    "director James Cameron take the first and the third place with his film avatar and titanic\n",
    "\n",
    "but he did not present in the top 10 director movies production list or the most director Profit all the time\n",
    "\n",
    "Woody Allen take the first place by direct 45 movies although Steven Spielberg take the fourth place with 29 movies\n",
    "but he take the most director Profit all the time\n",
    "\n",
    "\n",
    "**_Limitations_**\n",
    "\n",
    "  Split the data after cleaning to women_directer and Men_Director and discover that women_directer Movies_ missing almost 90%\n",
    "    from budget', 'revenue and by add the mean the data change and did not present the actual value\n",
    "    so i depend on profit one before add the mean for women_directer data frame to calculate my static and answer my Research Question    \n",
    "and that prevent me from answer the "
   ]
  },
  {
   "cell_type": "markdown",
   "metadata": {},
   "source": [
    "<a id='conclusions'></a>\n",
    "\n",
    "# Resource"
   ]
  },
  {
   "cell_type": "markdown",
   "metadata": {},
   "source": [
    "#### 1.TMDB 5000 Movie Dataset\n",
    "\n",
    "https://www.kaggle.com/tmdb/tmdb-movie-metadata?select=tmdb_5000_credits.csv\n",
    "\n",
    "#### 2.Set order of columns in pandas Data Frame\n",
    "https://stackoverflow.com/questions/41968732/set-order-of-columns-in-pandas-dataframe\n",
    "\n",
    "#### 3.Installing nbconvert\n",
    "\n",
    "**For converting notebooks to PDF (with --to pdf), nbconvert makes use of LaTeX and the XeTeX as the rendering engine.**\n",
    "\n",
    "https://nbconvert.readthedocs.io/en/latest/install.html#installing-tex\n",
    "\n",
    "**seaborn.boxplot**\n",
    "\n",
    "https://seaborn.pydata.org/generated/seaborn.boxplot.html\n",
    "\n",
    "**color codes**\n",
    "\n",
    "https://www.rapidtables.com/web/color/blue-color.html"
   ]
  },
  {
   "cell_type": "markdown",
   "metadata": {},
   "source": [
    "<a href=\"https://egfwd.com/\"><img src = \"https://roadtovrlive-5ea0.kxcdn.com/wp-content/uploads/2017/10/udacity-logo.png\" align = \"center\"></a>"
   ]
  }
 ],
 "metadata": {
  "kernelspec": {
   "display_name": "Python 3",
   "language": "python",
   "name": "python3"
  },
  "language_info": {
   "codemirror_mode": {
    "name": "ipython",
    "version": 3
   },
   "file_extension": ".py",
   "mimetype": "text/x-python",
   "name": "python",
   "nbconvert_exporter": "python",
   "pygments_lexer": "ipython3",
   "version": "3.8.5"
  },
  "latex_envs": {
   "LaTeX_envs_menu_present": true,
   "autoclose": false,
   "autocomplete": true,
   "bibliofile": "biblio.bib",
   "cite_by": "apalike",
   "current_citInitial": 1,
   "eqLabelWithNumbers": true,
   "eqNumInitial": 1,
   "hotkeys": {
    "equation": "Ctrl-E",
    "itemize": "Ctrl-I"
   },
   "labels_anchors": false,
   "latex_user_defs": false,
   "report_style_numbering": false,
   "user_envs_cfg": false
  }
 },
 "nbformat": 4,
 "nbformat_minor": 2
}
